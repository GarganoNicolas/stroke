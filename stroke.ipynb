{
  "cells": [
    {
      "cell_type": "markdown",
      "metadata": {
        "id": "view-in-github",
        "colab_type": "text"
      },
      "source": [
        "<a href=\"https://colab.research.google.com/github/GarganoNicolas/stroke/blob/main/stroke.ipynb\" target=\"_parent\"><img src=\"https://colab.research.google.com/assets/colab-badge.svg\" alt=\"Open In Colab\"/></a>"
      ]
    },
    {
      "cell_type": "code",
      "execution_count": null,
      "metadata": {
        "id": "Harujih43qgs"
      },
      "outputs": [],
      "source": [
        "import pandas as pd\n",
        "data5 = pd.read_csv('healthcare-dataset-stroke-data.csv', sep=',')"
      ]
    },
    {
      "cell_type": "code",
      "execution_count": null,
      "metadata": {
        "id": "WSpHEUbv3qgv"
      },
      "outputs": [],
      "source": [
        "from funpymodeling import profiling_num, freq_tbl, status"
      ]
    },
    {
      "cell_type": "code",
      "execution_count": null,
      "metadata": {
        "id": "rDdQEriN3qgw",
        "outputId": "1b87141e-b0d6-4841-bdf4-dab7c34405b8"
      },
      "outputs": [
        {
          "data": {
            "text/plain": [
              "(5110, 12)"
            ]
          },
          "execution_count": 183,
          "metadata": {},
          "output_type": "execute_result"
        }
      ],
      "source": [
        "data5.shape"
      ]
    },
    {
      "cell_type": "markdown",
      "metadata": {
        "id": "fuGeO9SV3qgx"
      },
      "source": [
        "# EXPLORING DATA AND MAKING USER INTERFACE (INPUT)"
      ]
    },
    {
      "cell_type": "code",
      "execution_count": null,
      "metadata": {
        "id": "1_aNtIQE3qg0",
        "outputId": "79f2a5c5-34c3-4cb2-e2ff-535163fbd51e"
      },
      "outputs": [
        {
          "data": {
            "text/html": [
              "<div>\n",
              "<style scoped>\n",
              "    .dataframe tbody tr th:only-of-type {\n",
              "        vertical-align: middle;\n",
              "    }\n",
              "\n",
              "    .dataframe tbody tr th {\n",
              "        vertical-align: top;\n",
              "    }\n",
              "\n",
              "    .dataframe thead th {\n",
              "        text-align: right;\n",
              "    }\n",
              "</style>\n",
              "<table border=\"1\" class=\"dataframe\">\n",
              "  <thead>\n",
              "    <tr style=\"text-align: right;\">\n",
              "      <th></th>\n",
              "      <th>variable</th>\n",
              "      <th>q_nan</th>\n",
              "      <th>p_nan</th>\n",
              "      <th>q_zeros</th>\n",
              "      <th>p_zeros</th>\n",
              "      <th>unique</th>\n",
              "      <th>type</th>\n",
              "    </tr>\n",
              "  </thead>\n",
              "  <tbody>\n",
              "    <tr>\n",
              "      <th>0</th>\n",
              "      <td>id</td>\n",
              "      <td>0</td>\n",
              "      <td>0.000000</td>\n",
              "      <td>0</td>\n",
              "      <td>0.000000</td>\n",
              "      <td>5110</td>\n",
              "      <td>int64</td>\n",
              "    </tr>\n",
              "    <tr>\n",
              "      <th>1</th>\n",
              "      <td>gender</td>\n",
              "      <td>0</td>\n",
              "      <td>0.000000</td>\n",
              "      <td>0</td>\n",
              "      <td>0.000000</td>\n",
              "      <td>3</td>\n",
              "      <td>object</td>\n",
              "    </tr>\n",
              "    <tr>\n",
              "      <th>2</th>\n",
              "      <td>age</td>\n",
              "      <td>0</td>\n",
              "      <td>0.000000</td>\n",
              "      <td>0</td>\n",
              "      <td>0.000000</td>\n",
              "      <td>104</td>\n",
              "      <td>float64</td>\n",
              "    </tr>\n",
              "    <tr>\n",
              "      <th>3</th>\n",
              "      <td>hypertension</td>\n",
              "      <td>0</td>\n",
              "      <td>0.000000</td>\n",
              "      <td>4612</td>\n",
              "      <td>0.902544</td>\n",
              "      <td>2</td>\n",
              "      <td>int64</td>\n",
              "    </tr>\n",
              "    <tr>\n",
              "      <th>4</th>\n",
              "      <td>heart_disease</td>\n",
              "      <td>0</td>\n",
              "      <td>0.000000</td>\n",
              "      <td>4834</td>\n",
              "      <td>0.945988</td>\n",
              "      <td>2</td>\n",
              "      <td>int64</td>\n",
              "    </tr>\n",
              "    <tr>\n",
              "      <th>5</th>\n",
              "      <td>ever_married</td>\n",
              "      <td>0</td>\n",
              "      <td>0.000000</td>\n",
              "      <td>0</td>\n",
              "      <td>0.000000</td>\n",
              "      <td>2</td>\n",
              "      <td>object</td>\n",
              "    </tr>\n",
              "    <tr>\n",
              "      <th>6</th>\n",
              "      <td>work_type</td>\n",
              "      <td>0</td>\n",
              "      <td>0.000000</td>\n",
              "      <td>0</td>\n",
              "      <td>0.000000</td>\n",
              "      <td>5</td>\n",
              "      <td>object</td>\n",
              "    </tr>\n",
              "    <tr>\n",
              "      <th>7</th>\n",
              "      <td>Residence_type</td>\n",
              "      <td>0</td>\n",
              "      <td>0.000000</td>\n",
              "      <td>0</td>\n",
              "      <td>0.000000</td>\n",
              "      <td>2</td>\n",
              "      <td>object</td>\n",
              "    </tr>\n",
              "    <tr>\n",
              "      <th>8</th>\n",
              "      <td>avg_glucose_level</td>\n",
              "      <td>0</td>\n",
              "      <td>0.000000</td>\n",
              "      <td>0</td>\n",
              "      <td>0.000000</td>\n",
              "      <td>3979</td>\n",
              "      <td>float64</td>\n",
              "    </tr>\n",
              "    <tr>\n",
              "      <th>9</th>\n",
              "      <td>bmi</td>\n",
              "      <td>201</td>\n",
              "      <td>0.039335</td>\n",
              "      <td>0</td>\n",
              "      <td>0.000000</td>\n",
              "      <td>418</td>\n",
              "      <td>float64</td>\n",
              "    </tr>\n",
              "    <tr>\n",
              "      <th>10</th>\n",
              "      <td>smoking_status</td>\n",
              "      <td>0</td>\n",
              "      <td>0.000000</td>\n",
              "      <td>0</td>\n",
              "      <td>0.000000</td>\n",
              "      <td>4</td>\n",
              "      <td>object</td>\n",
              "    </tr>\n",
              "    <tr>\n",
              "      <th>11</th>\n",
              "      <td>stroke</td>\n",
              "      <td>0</td>\n",
              "      <td>0.000000</td>\n",
              "      <td>4861</td>\n",
              "      <td>0.951272</td>\n",
              "      <td>2</td>\n",
              "      <td>int64</td>\n",
              "    </tr>\n",
              "  </tbody>\n",
              "</table>\n",
              "</div>"
            ],
            "text/plain": [
              "             variable  q_nan     p_nan  q_zeros   p_zeros  unique     type\n",
              "0                  id      0  0.000000        0  0.000000    5110    int64\n",
              "1              gender      0  0.000000        0  0.000000       3   object\n",
              "2                 age      0  0.000000        0  0.000000     104  float64\n",
              "3        hypertension      0  0.000000     4612  0.902544       2    int64\n",
              "4       heart_disease      0  0.000000     4834  0.945988       2    int64\n",
              "5        ever_married      0  0.000000        0  0.000000       2   object\n",
              "6           work_type      0  0.000000        0  0.000000       5   object\n",
              "7      Residence_type      0  0.000000        0  0.000000       2   object\n",
              "8   avg_glucose_level      0  0.000000        0  0.000000    3979  float64\n",
              "9                 bmi    201  0.039335        0  0.000000     418  float64\n",
              "10     smoking_status      0  0.000000        0  0.000000       4   object\n",
              "11             stroke      0  0.000000     4861  0.951272       2    int64"
            ]
          },
          "execution_count": 184,
          "metadata": {},
          "output_type": "execute_result"
        }
      ],
      "source": [
        "status(data5)"
      ]
    },
    {
      "cell_type": "code",
      "execution_count": null,
      "metadata": {
        "id": "Rv3C3l5F3qg0",
        "outputId": "92b9deef-6d06-4dfa-a931-7e44b3f21135"
      },
      "outputs": [
        {
          "data": {
            "text/plain": [
              "Index(['gender', 'age', 'hypertension', 'heart_disease', 'ever_married',\n",
              "       'work_type', 'Residence_type', 'avg_glucose_level', 'bmi',\n",
              "       'smoking_status', 'stroke'],\n",
              "      dtype='object')"
            ]
          },
          "execution_count": 185,
          "metadata": {},
          "output_type": "execute_result"
        }
      ],
      "source": [
        "data5=data5.drop('id', axis=1)\n",
        "data5.columns"
      ]
    },
    {
      "cell_type": "code",
      "execution_count": null,
      "metadata": {
        "id": "BH1SO38i3qg1",
        "outputId": "ae5a7213-7866-42f1-ee0e-7bf3e15d0a53"
      },
      "outputs": [
        {
          "data": {
            "text/plain": [
              "stroke\n",
              "0    4861\n",
              "1     249\n",
              "Name: count, dtype: int64"
            ]
          },
          "execution_count": 186,
          "metadata": {},
          "output_type": "execute_result"
        }
      ],
      "source": [
        "#data is imbalanced (I dont have to much resource, so I will make underfit to make a cheaper model)\n",
        "data5['stroke'].value_counts()"
      ]
    },
    {
      "cell_type": "code",
      "execution_count": null,
      "metadata": {
        "id": "zoCg_OoV3qg1",
        "outputId": "5690b827-fca9-4f52-9603-c60ef33e2ba9"
      },
      "outputs": [
        {
          "name": "stdout",
          "output_type": "stream",
          "text": [
            "['No' 'Yes']\n",
            "['Yes' 'No']\n",
            "['Yes' 'No']\n"
          ]
        }
      ],
      "source": [
        "#for the interface I need yes and no, and also to compare objet columns is usefull\n",
        "data5[[\"hypertension\", \"heart_disease\", \"stroke\"]] = data5[[\"hypertension\", \"heart_disease\", \"stroke\"]].replace({0: \"No\", 1: \"Yes\"})\n",
        "print(data5[\"hypertension\"].unique())\n",
        "print(data5[\"heart_disease\"].unique())\n",
        "print(data5[\"stroke\"].unique())"
      ]
    },
    {
      "cell_type": "code",
      "execution_count": null,
      "metadata": {
        "id": "DYBbGzto3qg2",
        "outputId": "af54540a-c8d2-49f3-8edd-202ac956380c"
      },
      "outputs": [
        {
          "name": "stdout",
          "output_type": "stream",
          "text": [
            "   gender  frequency  percentage  cumulative_perc\n",
            "0  Female       2994    0.585910         0.585910\n",
            "1    Male       2115    0.413894         0.999804\n",
            "2   Other          1    0.000196         1.000000\n",
            "\n",
            "----------------------------------------------------------------\n",
            "\n",
            "  hypertension  frequency  percentage  cumulative_perc\n",
            "0           No       4612    0.902544         0.902544\n",
            "1          Yes        498    0.097456         1.000000\n",
            "\n",
            "----------------------------------------------------------------\n",
            "\n",
            "  heart_disease  frequency  percentage  cumulative_perc\n",
            "0            No       4834    0.945988         0.945988\n",
            "1           Yes        276    0.054012         1.000000\n",
            "\n",
            "----------------------------------------------------------------\n",
            "\n",
            "  ever_married  frequency  percentage  cumulative_perc\n",
            "0          Yes       3353    0.656164         0.656164\n",
            "1           No       1757    0.343836         1.000000\n",
            "\n",
            "----------------------------------------------------------------\n",
            "\n",
            "       work_type  frequency  percentage  cumulative_perc\n",
            "0        Private       2925    0.572407         0.572407\n",
            "1  Self-employed        819    0.160274         0.732681\n",
            "2       children        687    0.134442         0.867123\n",
            "3       Govt_job        657    0.128571         0.995695\n",
            "4   Never_worked         22    0.004305         1.000000\n",
            "\n",
            "----------------------------------------------------------------\n",
            "\n",
            "  Residence_type  frequency  percentage  cumulative_perc\n",
            "0          Urban       2596    0.508023         0.508023\n",
            "1          Rural       2514    0.491977         1.000000\n",
            "\n",
            "----------------------------------------------------------------\n",
            "\n",
            "    smoking_status  frequency  percentage  cumulative_perc\n",
            "0     never smoked       1892    0.370254         0.370254\n",
            "1          Unknown       1544    0.302153         0.672407\n",
            "2  formerly smoked        885    0.173190         0.845597\n",
            "3           smokes        789    0.154403         1.000000\n",
            "\n",
            "----------------------------------------------------------------\n",
            "\n",
            "  stroke  frequency  percentage  cumulative_perc\n",
            "0     No       4861    0.951272         0.951272\n",
            "1    Yes        249    0.048728         1.000000\n",
            "\n",
            "----------------------------------------------------------------\n",
            "\n"
          ]
        }
      ],
      "source": [
        "freq_tbl(data5)"
      ]
    },
    {
      "cell_type": "code",
      "execution_count": null,
      "metadata": {
        "id": "rbeqpq1f3qg3",
        "outputId": "4db55881-2de6-4ddc-bb40-48cf0bea8760"
      },
      "outputs": [
        {
          "data": {
            "text/html": [
              "<div>\n",
              "<style scoped>\n",
              "    .dataframe tbody tr th:only-of-type {\n",
              "        vertical-align: middle;\n",
              "    }\n",
              "\n",
              "    .dataframe tbody tr th {\n",
              "        vertical-align: top;\n",
              "    }\n",
              "\n",
              "    .dataframe thead th {\n",
              "        text-align: right;\n",
              "    }\n",
              "</style>\n",
              "<table border=\"1\" class=\"dataframe\">\n",
              "  <thead>\n",
              "    <tr style=\"text-align: right;\">\n",
              "      <th></th>\n",
              "      <th>gender</th>\n",
              "      <th>age</th>\n",
              "      <th>hypertension</th>\n",
              "      <th>heart_disease</th>\n",
              "      <th>ever_married</th>\n",
              "      <th>work_type</th>\n",
              "      <th>Residence_type</th>\n",
              "      <th>avg_glucose_level</th>\n",
              "      <th>bmi</th>\n",
              "      <th>smoking_status</th>\n",
              "      <th>stroke</th>\n",
              "    </tr>\n",
              "  </thead>\n",
              "  <tbody>\n",
              "    <tr>\n",
              "      <th>0</th>\n",
              "      <td>Male</td>\n",
              "      <td>67.0</td>\n",
              "      <td>No</td>\n",
              "      <td>Yes</td>\n",
              "      <td>Yes</td>\n",
              "      <td>Private</td>\n",
              "      <td>Urban</td>\n",
              "      <td>228.69</td>\n",
              "      <td>36.6</td>\n",
              "      <td>formerly smoked</td>\n",
              "      <td>Yes</td>\n",
              "    </tr>\n",
              "    <tr>\n",
              "      <th>1</th>\n",
              "      <td>Female</td>\n",
              "      <td>61.0</td>\n",
              "      <td>No</td>\n",
              "      <td>No</td>\n",
              "      <td>Yes</td>\n",
              "      <td>Self-employed</td>\n",
              "      <td>Rural</td>\n",
              "      <td>202.21</td>\n",
              "      <td>NaN</td>\n",
              "      <td>never smoked</td>\n",
              "      <td>Yes</td>\n",
              "    </tr>\n",
              "    <tr>\n",
              "      <th>2</th>\n",
              "      <td>Male</td>\n",
              "      <td>80.0</td>\n",
              "      <td>No</td>\n",
              "      <td>Yes</td>\n",
              "      <td>Yes</td>\n",
              "      <td>Private</td>\n",
              "      <td>Rural</td>\n",
              "      <td>105.92</td>\n",
              "      <td>32.5</td>\n",
              "      <td>never smoked</td>\n",
              "      <td>Yes</td>\n",
              "    </tr>\n",
              "  </tbody>\n",
              "</table>\n",
              "</div>"
            ],
            "text/plain": [
              "   gender   age hypertension heart_disease ever_married      work_type  \\\n",
              "0    Male  67.0           No           Yes          Yes        Private   \n",
              "1  Female  61.0           No            No          Yes  Self-employed   \n",
              "2    Male  80.0           No           Yes          Yes        Private   \n",
              "\n",
              "  Residence_type  avg_glucose_level   bmi   smoking_status stroke  \n",
              "0          Urban             228.69  36.6  formerly smoked    Yes  \n",
              "1          Rural             202.21   NaN     never smoked    Yes  \n",
              "2          Rural             105.92  32.5     never smoked    Yes  "
            ]
          },
          "execution_count": 189,
          "metadata": {},
          "output_type": "execute_result"
        }
      ],
      "source": [
        "pd.set_option('display.max_columns', None)\n",
        "dataYes = data5[data5['stroke']=='Yes']\n",
        "dataYes.head(3)\n"
      ]
    },
    {
      "cell_type": "code",
      "execution_count": null,
      "metadata": {
        "id": "Y1xyGQoO3qg3"
      },
      "outputs": [],
      "source": [
        "pd.reset_option('display.max_columns')"
      ]
    },
    {
      "cell_type": "code",
      "execution_count": null,
      "metadata": {
        "id": "8ZnWxxWK3qg4",
        "outputId": "f57006da-8875-4efa-be06-f3a113ecbaba"
      },
      "outputs": [
        {
          "name": "stdout",
          "output_type": "stream",
          "text": [
            "   gender  frequency  percentage  cumulative_perc\n",
            "0  Female        141    0.566265         0.566265\n",
            "1    Male        108    0.433735         1.000000\n",
            "\n",
            "----------------------------------------------------------------\n",
            "\n",
            "  hypertension  frequency  percentage  cumulative_perc\n",
            "0           No        183     0.73494          0.73494\n",
            "1          Yes         66     0.26506          1.00000\n",
            "\n",
            "----------------------------------------------------------------\n",
            "\n",
            "  heart_disease  frequency  percentage  cumulative_perc\n",
            "0            No        202    0.811245         0.811245\n",
            "1           Yes         47    0.188755         1.000000\n",
            "\n",
            "----------------------------------------------------------------\n",
            "\n",
            "  ever_married  frequency  percentage  cumulative_perc\n",
            "0          Yes        220    0.883534         0.883534\n",
            "1           No         29    0.116466         1.000000\n",
            "\n",
            "----------------------------------------------------------------\n",
            "\n",
            "       work_type  frequency  percentage  cumulative_perc\n",
            "0        Private        149    0.598394         0.598394\n",
            "1  Self-employed         65    0.261044         0.859438\n",
            "2       Govt_job         33    0.132530         0.991968\n",
            "3       children          2    0.008032         1.000000\n",
            "\n",
            "----------------------------------------------------------------\n",
            "\n",
            "  Residence_type  frequency  percentage  cumulative_perc\n",
            "0          Urban        135    0.542169         0.542169\n",
            "1          Rural        114    0.457831         1.000000\n",
            "\n",
            "----------------------------------------------------------------\n",
            "\n",
            "    smoking_status  frequency  percentage  cumulative_perc\n",
            "0     never smoked         90    0.361446         0.361446\n",
            "1  formerly smoked         70    0.281124         0.642570\n",
            "2          Unknown         47    0.188755         0.831325\n",
            "3           smokes         42    0.168675         1.000000\n",
            "\n",
            "----------------------------------------------------------------\n",
            "\n",
            "  stroke  frequency  percentage  cumulative_perc\n",
            "0    Yes        249         1.0              1.0\n",
            "\n",
            "----------------------------------------------------------------\n",
            "\n"
          ]
        }
      ],
      "source": [
        "freq_tbl(dataYes)"
      ]
    },
    {
      "cell_type": "code",
      "execution_count": null,
      "metadata": {
        "id": "yjO5Km4t3qg4",
        "outputId": "65331b4c-427c-437b-c7bf-13ebc855bbce"
      },
      "outputs": [
        {
          "data": {
            "text/html": [
              "<div>\n",
              "<style scoped>\n",
              "    .dataframe tbody tr th:only-of-type {\n",
              "        vertical-align: middle;\n",
              "    }\n",
              "\n",
              "    .dataframe tbody tr th {\n",
              "        vertical-align: top;\n",
              "    }\n",
              "\n",
              "    .dataframe thead th {\n",
              "        text-align: right;\n",
              "    }\n",
              "</style>\n",
              "<table border=\"1\" class=\"dataframe\">\n",
              "  <thead>\n",
              "    <tr style=\"text-align: right;\">\n",
              "      <th></th>\n",
              "      <th>variable</th>\n",
              "      <th>mean</th>\n",
              "      <th>std_dev</th>\n",
              "      <th>variation_coef</th>\n",
              "      <th>p_0.01</th>\n",
              "      <th>p_0.05</th>\n",
              "      <th>p_0.25</th>\n",
              "      <th>p_0.5</th>\n",
              "      <th>p_0.75</th>\n",
              "      <th>p_0.95</th>\n",
              "      <th>p_0.99</th>\n",
              "    </tr>\n",
              "  </thead>\n",
              "  <tbody>\n",
              "    <tr>\n",
              "      <th>0</th>\n",
              "      <td>age</td>\n",
              "      <td>43.226614</td>\n",
              "      <td>22.612647</td>\n",
              "      <td>0.523119</td>\n",
              "      <td>1.0800</td>\n",
              "      <td>5.0000</td>\n",
              "      <td>25.000</td>\n",
              "      <td>45.000</td>\n",
              "      <td>61.00</td>\n",
              "      <td>79.0000</td>\n",
              "      <td>82.0000</td>\n",
              "    </tr>\n",
              "    <tr>\n",
              "      <th>1</th>\n",
              "      <td>avg_glucose_level</td>\n",
              "      <td>106.147677</td>\n",
              "      <td>45.283560</td>\n",
              "      <td>0.426609</td>\n",
              "      <td>56.3309</td>\n",
              "      <td>60.7135</td>\n",
              "      <td>77.245</td>\n",
              "      <td>91.885</td>\n",
              "      <td>114.09</td>\n",
              "      <td>216.2945</td>\n",
              "      <td>240.7082</td>\n",
              "    </tr>\n",
              "    <tr>\n",
              "      <th>2</th>\n",
              "      <td>bmi</td>\n",
              "      <td>28.893237</td>\n",
              "      <td>7.854067</td>\n",
              "      <td>0.271831</td>\n",
              "      <td>15.1000</td>\n",
              "      <td>17.6400</td>\n",
              "      <td>23.500</td>\n",
              "      <td>28.100</td>\n",
              "      <td>33.10</td>\n",
              "      <td>42.9600</td>\n",
              "      <td>53.4000</td>\n",
              "    </tr>\n",
              "  </tbody>\n",
              "</table>\n",
              "</div>"
            ],
            "text/plain": [
              "            variable        mean    std_dev  variation_coef   p_0.01   p_0.05  \\\n",
              "0                age   43.226614  22.612647        0.523119   1.0800   5.0000   \n",
              "1  avg_glucose_level  106.147677  45.283560        0.426609  56.3309  60.7135   \n",
              "2                bmi   28.893237   7.854067        0.271831  15.1000  17.6400   \n",
              "\n",
              "   p_0.25   p_0.5  p_0.75    p_0.95    p_0.99  \n",
              "0  25.000  45.000   61.00   79.0000   82.0000  \n",
              "1  77.245  91.885  114.09  216.2945  240.7082  \n",
              "2  23.500  28.100   33.10   42.9600   53.4000  "
            ]
          },
          "execution_count": 192,
          "metadata": {},
          "output_type": "execute_result"
        }
      ],
      "source": [
        "profiling_num(data5)"
      ]
    },
    {
      "cell_type": "code",
      "execution_count": null,
      "metadata": {
        "id": "isL1X0Ty3qg4",
        "outputId": "3b0dc9a3-7675-4fc4-a1a4-62050427e361"
      },
      "outputs": [
        {
          "data": {
            "text/html": [
              "<div>\n",
              "<style scoped>\n",
              "    .dataframe tbody tr th:only-of-type {\n",
              "        vertical-align: middle;\n",
              "    }\n",
              "\n",
              "    .dataframe tbody tr th {\n",
              "        vertical-align: top;\n",
              "    }\n",
              "\n",
              "    .dataframe thead th {\n",
              "        text-align: right;\n",
              "    }\n",
              "</style>\n",
              "<table border=\"1\" class=\"dataframe\">\n",
              "  <thead>\n",
              "    <tr style=\"text-align: right;\">\n",
              "      <th></th>\n",
              "      <th>variable</th>\n",
              "      <th>mean</th>\n",
              "      <th>std_dev</th>\n",
              "      <th>variation_coef</th>\n",
              "      <th>p_0.01</th>\n",
              "      <th>p_0.05</th>\n",
              "      <th>p_0.25</th>\n",
              "      <th>p_0.5</th>\n",
              "      <th>p_0.75</th>\n",
              "      <th>p_0.95</th>\n",
              "      <th>p_0.99</th>\n",
              "    </tr>\n",
              "  </thead>\n",
              "  <tbody>\n",
              "    <tr>\n",
              "      <th>0</th>\n",
              "      <td>age</td>\n",
              "      <td>67.728193</td>\n",
              "      <td>12.727419</td>\n",
              "      <td>0.187919</td>\n",
              "      <td>34.8800</td>\n",
              "      <td>45.400</td>\n",
              "      <td>59.00</td>\n",
              "      <td>71.00</td>\n",
              "      <td>78.00</td>\n",
              "      <td>81.000</td>\n",
              "      <td>82.0000</td>\n",
              "    </tr>\n",
              "    <tr>\n",
              "      <th>1</th>\n",
              "      <td>avg_glucose_level</td>\n",
              "      <td>132.544739</td>\n",
              "      <td>61.921056</td>\n",
              "      <td>0.467171</td>\n",
              "      <td>58.0068</td>\n",
              "      <td>62.156</td>\n",
              "      <td>79.79</td>\n",
              "      <td>105.22</td>\n",
              "      <td>196.71</td>\n",
              "      <td>236.902</td>\n",
              "      <td>256.3132</td>\n",
              "    </tr>\n",
              "    <tr>\n",
              "      <th>2</th>\n",
              "      <td>bmi</td>\n",
              "      <td>30.471292</td>\n",
              "      <td>6.329452</td>\n",
              "      <td>0.207719</td>\n",
              "      <td>19.6400</td>\n",
              "      <td>21.740</td>\n",
              "      <td>26.40</td>\n",
              "      <td>29.70</td>\n",
              "      <td>33.70</td>\n",
              "      <td>42.460</td>\n",
              "      <td>47.3800</td>\n",
              "    </tr>\n",
              "  </tbody>\n",
              "</table>\n",
              "</div>"
            ],
            "text/plain": [
              "            variable        mean    std_dev  variation_coef   p_0.01  p_0.05  \\\n",
              "0                age   67.728193  12.727419        0.187919  34.8800  45.400   \n",
              "1  avg_glucose_level  132.544739  61.921056        0.467171  58.0068  62.156   \n",
              "2                bmi   30.471292   6.329452        0.207719  19.6400  21.740   \n",
              "\n",
              "   p_0.25   p_0.5  p_0.75   p_0.95    p_0.99  \n",
              "0   59.00   71.00   78.00   81.000   82.0000  \n",
              "1   79.79  105.22  196.71  236.902  256.3132  \n",
              "2   26.40   29.70   33.70   42.460   47.3800  "
            ]
          },
          "execution_count": 193,
          "metadata": {},
          "output_type": "execute_result"
        }
      ],
      "source": [
        "profiling_num(dataYes)"
      ]
    },
    {
      "cell_type": "code",
      "execution_count": null,
      "metadata": {
        "id": "IhhyR_j63qg5",
        "outputId": "0d370edc-36cf-4bc7-e226-5ef8572c1e1f"
      },
      "outputs": [
        {
          "data": {
            "text/plain": [
              "(3265, 11)"
            ]
          },
          "execution_count": 194,
          "metadata": {},
          "output_type": "execute_result"
        }
      ],
      "source": [
        "data51=data5[data5['age']>=35]\n",
        "data51.shape"
      ]
    },
    {
      "cell_type": "code",
      "execution_count": null,
      "metadata": {
        "id": "TMeiGTFX3qg5",
        "outputId": "67359775-8587-4961-983a-b78eda168776"
      },
      "outputs": [
        {
          "data": {
            "text/html": [
              "<div>\n",
              "<style scoped>\n",
              "    .dataframe tbody tr th:only-of-type {\n",
              "        vertical-align: middle;\n",
              "    }\n",
              "\n",
              "    .dataframe tbody tr th {\n",
              "        vertical-align: top;\n",
              "    }\n",
              "\n",
              "    .dataframe thead th {\n",
              "        text-align: right;\n",
              "    }\n",
              "</style>\n",
              "<table border=\"1\" class=\"dataframe\">\n",
              "  <thead>\n",
              "    <tr style=\"text-align: right;\">\n",
              "      <th></th>\n",
              "      <th>ever_married</th>\n",
              "      <th>frequency</th>\n",
              "      <th>percentage</th>\n",
              "      <th>cumulative_perc</th>\n",
              "    </tr>\n",
              "  </thead>\n",
              "  <tbody>\n",
              "    <tr>\n",
              "      <th>0</th>\n",
              "      <td>Yes</td>\n",
              "      <td>2954</td>\n",
              "      <td>0.904747</td>\n",
              "      <td>0.904747</td>\n",
              "    </tr>\n",
              "    <tr>\n",
              "      <th>1</th>\n",
              "      <td>No</td>\n",
              "      <td>311</td>\n",
              "      <td>0.095253</td>\n",
              "      <td>1.000000</td>\n",
              "    </tr>\n",
              "  </tbody>\n",
              "</table>\n",
              "</div>"
            ],
            "text/plain": [
              "  ever_married  frequency  percentage  cumulative_perc\n",
              "0          Yes       2954    0.904747         0.904747\n",
              "1           No        311    0.095253         1.000000"
            ]
          },
          "metadata": {},
          "output_type": "display_data"
        },
        {
          "data": {
            "text/html": [
              "<div>\n",
              "<style scoped>\n",
              "    .dataframe tbody tr th:only-of-type {\n",
              "        vertical-align: middle;\n",
              "    }\n",
              "\n",
              "    .dataframe tbody tr th {\n",
              "        vertical-align: top;\n",
              "    }\n",
              "\n",
              "    .dataframe thead th {\n",
              "        text-align: right;\n",
              "    }\n",
              "</style>\n",
              "<table border=\"1\" class=\"dataframe\">\n",
              "  <thead>\n",
              "    <tr style=\"text-align: right;\">\n",
              "      <th></th>\n",
              "      <th>work_type</th>\n",
              "      <th>frequency</th>\n",
              "      <th>percentage</th>\n",
              "      <th>cumulative_perc</th>\n",
              "    </tr>\n",
              "  </thead>\n",
              "  <tbody>\n",
              "    <tr>\n",
              "      <th>0</th>\n",
              "      <td>Private</td>\n",
              "      <td>1967</td>\n",
              "      <td>0.602450</td>\n",
              "      <td>0.602450</td>\n",
              "    </tr>\n",
              "    <tr>\n",
              "      <th>1</th>\n",
              "      <td>Self-employed</td>\n",
              "      <td>744</td>\n",
              "      <td>0.227871</td>\n",
              "      <td>0.830322</td>\n",
              "    </tr>\n",
              "    <tr>\n",
              "      <th>2</th>\n",
              "      <td>Govt_job</td>\n",
              "      <td>554</td>\n",
              "      <td>0.169678</td>\n",
              "      <td>1.000000</td>\n",
              "    </tr>\n",
              "  </tbody>\n",
              "</table>\n",
              "</div>"
            ],
            "text/plain": [
              "       work_type  frequency  percentage  cumulative_perc\n",
              "0        Private       1967    0.602450         0.602450\n",
              "1  Self-employed        744    0.227871         0.830322\n",
              "2       Govt_job        554    0.169678         1.000000"
            ]
          },
          "metadata": {},
          "output_type": "display_data"
        },
        {
          "data": {
            "text/html": [
              "<div>\n",
              "<style scoped>\n",
              "    .dataframe tbody tr th:only-of-type {\n",
              "        vertical-align: middle;\n",
              "    }\n",
              "\n",
              "    .dataframe tbody tr th {\n",
              "        vertical-align: top;\n",
              "    }\n",
              "\n",
              "    .dataframe thead th {\n",
              "        text-align: right;\n",
              "    }\n",
              "</style>\n",
              "<table border=\"1\" class=\"dataframe\">\n",
              "  <thead>\n",
              "    <tr style=\"text-align: right;\">\n",
              "      <th></th>\n",
              "      <th>stroke</th>\n",
              "      <th>frequency</th>\n",
              "      <th>percentage</th>\n",
              "      <th>cumulative_perc</th>\n",
              "    </tr>\n",
              "  </thead>\n",
              "  <tbody>\n",
              "    <tr>\n",
              "      <th>0</th>\n",
              "      <td>No</td>\n",
              "      <td>3019</td>\n",
              "      <td>0.924655</td>\n",
              "      <td>0.924655</td>\n",
              "    </tr>\n",
              "    <tr>\n",
              "      <th>1</th>\n",
              "      <td>Yes</td>\n",
              "      <td>246</td>\n",
              "      <td>0.075345</td>\n",
              "      <td>1.000000</td>\n",
              "    </tr>\n",
              "  </tbody>\n",
              "</table>\n",
              "</div>"
            ],
            "text/plain": [
              "  stroke  frequency  percentage  cumulative_perc\n",
              "0     No       3019    0.924655         0.924655\n",
              "1    Yes        246    0.075345         1.000000"
            ]
          },
          "metadata": {},
          "output_type": "display_data"
        }
      ],
      "source": [
        "display(freq_tbl(data51['ever_married']))\n",
        "display(freq_tbl(data51['work_type']))\n",
        "display(freq_tbl(data51['stroke']))"
      ]
    },
    {
      "cell_type": "code",
      "execution_count": null,
      "metadata": {
        "id": "dsfdC08f3qg5",
        "outputId": "c5a68b62-1263-469f-82c7-bf36b3bef94d"
      },
      "outputs": [
        {
          "data": {
            "text/html": [
              "<div>\n",
              "<style scoped>\n",
              "    .dataframe tbody tr th:only-of-type {\n",
              "        vertical-align: middle;\n",
              "    }\n",
              "\n",
              "    .dataframe tbody tr th {\n",
              "        vertical-align: top;\n",
              "    }\n",
              "\n",
              "    .dataframe thead th {\n",
              "        text-align: right;\n",
              "    }\n",
              "</style>\n",
              "<table border=\"1\" class=\"dataframe\">\n",
              "  <thead>\n",
              "    <tr style=\"text-align: right;\">\n",
              "      <th></th>\n",
              "      <th>ever_married</th>\n",
              "      <th>frequency</th>\n",
              "      <th>percentage</th>\n",
              "      <th>cumulative_perc</th>\n",
              "    </tr>\n",
              "  </thead>\n",
              "  <tbody>\n",
              "    <tr>\n",
              "      <th>0</th>\n",
              "      <td>Yes</td>\n",
              "      <td>2954</td>\n",
              "      <td>0.904747</td>\n",
              "      <td>0.904747</td>\n",
              "    </tr>\n",
              "    <tr>\n",
              "      <th>1</th>\n",
              "      <td>No</td>\n",
              "      <td>311</td>\n",
              "      <td>0.095253</td>\n",
              "      <td>1.000000</td>\n",
              "    </tr>\n",
              "  </tbody>\n",
              "</table>\n",
              "</div>"
            ],
            "text/plain": [
              "  ever_married  frequency  percentage  cumulative_perc\n",
              "0          Yes       2954    0.904747         0.904747\n",
              "1           No        311    0.095253         1.000000"
            ]
          },
          "execution_count": 196,
          "metadata": {},
          "output_type": "execute_result"
        }
      ],
      "source": [
        "freq_tbl(data51['ever_married'])"
      ]
    },
    {
      "cell_type": "code",
      "execution_count": null,
      "metadata": {
        "id": "BiFbzWDb3qg6"
      },
      "outputs": [],
      "source": [
        "# we loss 3 cases of stroke over 2000 cases. I will keep the people over 35,\n",
        "# Also I think the cases under 35 can be studies in diferent ways than the older people, has another factors to analyze"
      ]
    },
    {
      "cell_type": "code",
      "execution_count": null,
      "metadata": {
        "id": "AKitnaIa3qg6",
        "outputId": "0c0e91fc-9b48-4de5-afef-1c82c299808b"
      },
      "outputs": [
        {
          "data": {
            "text/html": [
              "<div>\n",
              "<style scoped>\n",
              "    .dataframe tbody tr th:only-of-type {\n",
              "        vertical-align: middle;\n",
              "    }\n",
              "\n",
              "    .dataframe tbody tr th {\n",
              "        vertical-align: top;\n",
              "    }\n",
              "\n",
              "    .dataframe thead th {\n",
              "        text-align: right;\n",
              "    }\n",
              "</style>\n",
              "<table border=\"1\" class=\"dataframe\">\n",
              "  <thead>\n",
              "    <tr style=\"text-align: right;\">\n",
              "      <th>ever_married</th>\n",
              "      <th>No</th>\n",
              "      <th>Yes</th>\n",
              "    </tr>\n",
              "    <tr>\n",
              "      <th>stroke</th>\n",
              "      <th></th>\n",
              "      <th></th>\n",
              "    </tr>\n",
              "  </thead>\n",
              "  <tbody>\n",
              "    <tr>\n",
              "      <th>No</th>\n",
              "      <td>0.086983</td>\n",
              "      <td>0.837672</td>\n",
              "    </tr>\n",
              "    <tr>\n",
              "      <th>Yes</th>\n",
              "      <td>0.008270</td>\n",
              "      <td>0.067075</td>\n",
              "    </tr>\n",
              "  </tbody>\n",
              "</table>\n",
              "</div>"
            ],
            "text/plain": [
              "ever_married        No       Yes\n",
              "stroke                          \n",
              "No            0.086983  0.837672\n",
              "Yes           0.008270  0.067075"
            ]
          },
          "execution_count": 198,
          "metadata": {},
          "output_type": "execute_result"
        }
      ],
      "source": [
        "pd.crosstab(data51.stroke, data51.ever_married, normalize=True)"
      ]
    },
    {
      "cell_type": "code",
      "execution_count": null,
      "metadata": {
        "id": "QxjwU4tm3qg6",
        "outputId": "cf68cec7-467e-4016-c98b-02a2005cb3bb"
      },
      "outputs": [
        {
          "data": {
            "text/html": [
              "<div>\n",
              "<style scoped>\n",
              "    .dataframe tbody tr th:only-of-type {\n",
              "        vertical-align: middle;\n",
              "    }\n",
              "\n",
              "    .dataframe tbody tr th {\n",
              "        vertical-align: top;\n",
              "    }\n",
              "\n",
              "    .dataframe thead th {\n",
              "        text-align: right;\n",
              "    }\n",
              "</style>\n",
              "<table border=\"1\" class=\"dataframe\">\n",
              "  <thead>\n",
              "    <tr style=\"text-align: right;\">\n",
              "      <th></th>\n",
              "      <th>ever_married</th>\n",
              "      <th>frequency</th>\n",
              "      <th>percentage</th>\n",
              "      <th>cumulative_perc</th>\n",
              "    </tr>\n",
              "  </thead>\n",
              "  <tbody>\n",
              "    <tr>\n",
              "      <th>0</th>\n",
              "      <td>Yes</td>\n",
              "      <td>2954</td>\n",
              "      <td>0.904747</td>\n",
              "      <td>0.904747</td>\n",
              "    </tr>\n",
              "    <tr>\n",
              "      <th>1</th>\n",
              "      <td>No</td>\n",
              "      <td>311</td>\n",
              "      <td>0.095253</td>\n",
              "      <td>1.000000</td>\n",
              "    </tr>\n",
              "  </tbody>\n",
              "</table>\n",
              "</div>"
            ],
            "text/plain": [
              "  ever_married  frequency  percentage  cumulative_perc\n",
              "0          Yes       2954    0.904747         0.904747\n",
              "1           No        311    0.095253         1.000000"
            ]
          },
          "metadata": {},
          "output_type": "display_data"
        },
        {
          "data": {
            "text/html": [
              "<div>\n",
              "<style scoped>\n",
              "    .dataframe tbody tr th:only-of-type {\n",
              "        vertical-align: middle;\n",
              "    }\n",
              "\n",
              "    .dataframe tbody tr th {\n",
              "        vertical-align: top;\n",
              "    }\n",
              "\n",
              "    .dataframe thead th {\n",
              "        text-align: right;\n",
              "    }\n",
              "</style>\n",
              "<table border=\"1\" class=\"dataframe\">\n",
              "  <thead>\n",
              "    <tr style=\"text-align: right;\">\n",
              "      <th></th>\n",
              "      <th>ever_married</th>\n",
              "      <th>frequency</th>\n",
              "      <th>percentage</th>\n",
              "      <th>cumulative_perc</th>\n",
              "    </tr>\n",
              "  </thead>\n",
              "  <tbody>\n",
              "    <tr>\n",
              "      <th>0</th>\n",
              "      <td>Yes</td>\n",
              "      <td>220</td>\n",
              "      <td>0.883534</td>\n",
              "      <td>0.883534</td>\n",
              "    </tr>\n",
              "    <tr>\n",
              "      <th>1</th>\n",
              "      <td>No</td>\n",
              "      <td>29</td>\n",
              "      <td>0.116466</td>\n",
              "      <td>1.000000</td>\n",
              "    </tr>\n",
              "  </tbody>\n",
              "</table>\n",
              "</div>"
            ],
            "text/plain": [
              "  ever_married  frequency  percentage  cumulative_perc\n",
              "0          Yes        220    0.883534         0.883534\n",
              "1           No         29    0.116466         1.000000"
            ]
          },
          "metadata": {},
          "output_type": "display_data"
        },
        {
          "data": {
            "text/html": [
              "<div>\n",
              "<style scoped>\n",
              "    .dataframe tbody tr th:only-of-type {\n",
              "        vertical-align: middle;\n",
              "    }\n",
              "\n",
              "    .dataframe tbody tr th {\n",
              "        vertical-align: top;\n",
              "    }\n",
              "\n",
              "    .dataframe thead th {\n",
              "        text-align: right;\n",
              "    }\n",
              "</style>\n",
              "<table border=\"1\" class=\"dataframe\">\n",
              "  <thead>\n",
              "    <tr style=\"text-align: right;\">\n",
              "      <th></th>\n",
              "      <th>count</th>\n",
              "      <th>unique</th>\n",
              "      <th>top</th>\n",
              "      <th>freq</th>\n",
              "    </tr>\n",
              "    <tr>\n",
              "      <th>stroke</th>\n",
              "      <th></th>\n",
              "      <th></th>\n",
              "      <th></th>\n",
              "      <th></th>\n",
              "    </tr>\n",
              "  </thead>\n",
              "  <tbody>\n",
              "    <tr>\n",
              "      <th>No</th>\n",
              "      <td>4861</td>\n",
              "      <td>2</td>\n",
              "      <td>Yes</td>\n",
              "      <td>3133</td>\n",
              "    </tr>\n",
              "    <tr>\n",
              "      <th>Yes</th>\n",
              "      <td>249</td>\n",
              "      <td>2</td>\n",
              "      <td>Yes</td>\n",
              "      <td>220</td>\n",
              "    </tr>\n",
              "  </tbody>\n",
              "</table>\n",
              "</div>"
            ],
            "text/plain": [
              "       count unique  top  freq\n",
              "stroke                        \n",
              "No      4861      2  Yes  3133\n",
              "Yes      249      2  Yes   220"
            ]
          },
          "metadata": {},
          "output_type": "display_data"
        },
        {
          "data": {
            "text/html": [
              "<div>\n",
              "<style scoped>\n",
              "    .dataframe tbody tr th:only-of-type {\n",
              "        vertical-align: middle;\n",
              "    }\n",
              "\n",
              "    .dataframe tbody tr th {\n",
              "        vertical-align: top;\n",
              "    }\n",
              "\n",
              "    .dataframe thead th {\n",
              "        text-align: right;\n",
              "    }\n",
              "</style>\n",
              "<table border=\"1\" class=\"dataframe\">\n",
              "  <thead>\n",
              "    <tr style=\"text-align: right;\">\n",
              "      <th></th>\n",
              "      <th>count</th>\n",
              "      <th>unique</th>\n",
              "      <th>top</th>\n",
              "      <th>freq</th>\n",
              "    </tr>\n",
              "    <tr>\n",
              "      <th>stroke</th>\n",
              "      <th></th>\n",
              "      <th></th>\n",
              "      <th></th>\n",
              "      <th></th>\n",
              "    </tr>\n",
              "  </thead>\n",
              "  <tbody>\n",
              "    <tr>\n",
              "      <th>No</th>\n",
              "      <td>3019</td>\n",
              "      <td>2</td>\n",
              "      <td>Yes</td>\n",
              "      <td>2735</td>\n",
              "    </tr>\n",
              "    <tr>\n",
              "      <th>Yes</th>\n",
              "      <td>246</td>\n",
              "      <td>2</td>\n",
              "      <td>Yes</td>\n",
              "      <td>219</td>\n",
              "    </tr>\n",
              "  </tbody>\n",
              "</table>\n",
              "</div>"
            ],
            "text/plain": [
              "       count unique  top  freq\n",
              "stroke                        \n",
              "No      3019      2  Yes  2735\n",
              "Yes      246      2  Yes   219"
            ]
          },
          "metadata": {},
          "output_type": "display_data"
        }
      ],
      "source": [
        "display(freq_tbl(data51['ever_married']))\n",
        "display(freq_tbl(dataYes['ever_married']))\n",
        "display(data5.groupby('stroke')['ever_married'].describe())\n",
        "display(data51.groupby('stroke')['ever_married'].describe())"
      ]
    },
    {
      "cell_type": "code",
      "execution_count": null,
      "metadata": {
        "id": "OOW_0MY83qg6",
        "outputId": "98fa5437-d682-475d-ff01-f9631cf7fbb8"
      },
      "outputs": [
        {
          "data": {
            "text/html": [
              "<div>\n",
              "<style scoped>\n",
              "    .dataframe tbody tr th:only-of-type {\n",
              "        vertical-align: middle;\n",
              "    }\n",
              "\n",
              "    .dataframe tbody tr th {\n",
              "        vertical-align: top;\n",
              "    }\n",
              "\n",
              "    .dataframe thead th {\n",
              "        text-align: right;\n",
              "    }\n",
              "</style>\n",
              "<table border=\"1\" class=\"dataframe\">\n",
              "  <thead>\n",
              "    <tr style=\"text-align: right;\">\n",
              "      <th></th>\n",
              "      <th>Residence_type</th>\n",
              "      <th>frequency</th>\n",
              "      <th>percentage</th>\n",
              "      <th>cumulative_perc</th>\n",
              "    </tr>\n",
              "  </thead>\n",
              "  <tbody>\n",
              "    <tr>\n",
              "      <th>0</th>\n",
              "      <td>Urban</td>\n",
              "      <td>1663</td>\n",
              "      <td>0.509342</td>\n",
              "      <td>0.509342</td>\n",
              "    </tr>\n",
              "    <tr>\n",
              "      <th>1</th>\n",
              "      <td>Rural</td>\n",
              "      <td>1602</td>\n",
              "      <td>0.490658</td>\n",
              "      <td>1.000000</td>\n",
              "    </tr>\n",
              "  </tbody>\n",
              "</table>\n",
              "</div>"
            ],
            "text/plain": [
              "  Residence_type  frequency  percentage  cumulative_perc\n",
              "0          Urban       1663    0.509342         0.509342\n",
              "1          Rural       1602    0.490658         1.000000"
            ]
          },
          "metadata": {},
          "output_type": "display_data"
        },
        {
          "data": {
            "text/html": [
              "<div>\n",
              "<style scoped>\n",
              "    .dataframe tbody tr th:only-of-type {\n",
              "        vertical-align: middle;\n",
              "    }\n",
              "\n",
              "    .dataframe tbody tr th {\n",
              "        vertical-align: top;\n",
              "    }\n",
              "\n",
              "    .dataframe thead th {\n",
              "        text-align: right;\n",
              "    }\n",
              "</style>\n",
              "<table border=\"1\" class=\"dataframe\">\n",
              "  <thead>\n",
              "    <tr style=\"text-align: right;\">\n",
              "      <th></th>\n",
              "      <th>Residence_type</th>\n",
              "      <th>frequency</th>\n",
              "      <th>percentage</th>\n",
              "      <th>cumulative_perc</th>\n",
              "    </tr>\n",
              "  </thead>\n",
              "  <tbody>\n",
              "    <tr>\n",
              "      <th>0</th>\n",
              "      <td>Urban</td>\n",
              "      <td>135</td>\n",
              "      <td>0.542169</td>\n",
              "      <td>0.542169</td>\n",
              "    </tr>\n",
              "    <tr>\n",
              "      <th>1</th>\n",
              "      <td>Rural</td>\n",
              "      <td>114</td>\n",
              "      <td>0.457831</td>\n",
              "      <td>1.000000</td>\n",
              "    </tr>\n",
              "  </tbody>\n",
              "</table>\n",
              "</div>"
            ],
            "text/plain": [
              "  Residence_type  frequency  percentage  cumulative_perc\n",
              "0          Urban        135    0.542169         0.542169\n",
              "1          Rural        114    0.457831         1.000000"
            ]
          },
          "metadata": {},
          "output_type": "display_data"
        },
        {
          "data": {
            "text/html": [
              "<div>\n",
              "<style scoped>\n",
              "    .dataframe tbody tr th:only-of-type {\n",
              "        vertical-align: middle;\n",
              "    }\n",
              "\n",
              "    .dataframe tbody tr th {\n",
              "        vertical-align: top;\n",
              "    }\n",
              "\n",
              "    .dataframe thead th {\n",
              "        text-align: right;\n",
              "    }\n",
              "</style>\n",
              "<table border=\"1\" class=\"dataframe\">\n",
              "  <thead>\n",
              "    <tr style=\"text-align: right;\">\n",
              "      <th></th>\n",
              "      <th>count</th>\n",
              "      <th>unique</th>\n",
              "      <th>top</th>\n",
              "      <th>freq</th>\n",
              "    </tr>\n",
              "    <tr>\n",
              "      <th>stroke</th>\n",
              "      <th></th>\n",
              "      <th></th>\n",
              "      <th></th>\n",
              "      <th></th>\n",
              "    </tr>\n",
              "  </thead>\n",
              "  <tbody>\n",
              "    <tr>\n",
              "      <th>No</th>\n",
              "      <td>4861</td>\n",
              "      <td>2</td>\n",
              "      <td>Urban</td>\n",
              "      <td>2461</td>\n",
              "    </tr>\n",
              "    <tr>\n",
              "      <th>Yes</th>\n",
              "      <td>249</td>\n",
              "      <td>2</td>\n",
              "      <td>Urban</td>\n",
              "      <td>135</td>\n",
              "    </tr>\n",
              "  </tbody>\n",
              "</table>\n",
              "</div>"
            ],
            "text/plain": [
              "       count unique    top  freq\n",
              "stroke                          \n",
              "No      4861      2  Urban  2461\n",
              "Yes      249      2  Urban   135"
            ]
          },
          "metadata": {},
          "output_type": "display_data"
        },
        {
          "data": {
            "text/html": [
              "<div>\n",
              "<style scoped>\n",
              "    .dataframe tbody tr th:only-of-type {\n",
              "        vertical-align: middle;\n",
              "    }\n",
              "\n",
              "    .dataframe tbody tr th {\n",
              "        vertical-align: top;\n",
              "    }\n",
              "\n",
              "    .dataframe thead th {\n",
              "        text-align: right;\n",
              "    }\n",
              "</style>\n",
              "<table border=\"1\" class=\"dataframe\">\n",
              "  <thead>\n",
              "    <tr style=\"text-align: right;\">\n",
              "      <th></th>\n",
              "      <th>count</th>\n",
              "      <th>unique</th>\n",
              "      <th>top</th>\n",
              "      <th>freq</th>\n",
              "    </tr>\n",
              "    <tr>\n",
              "      <th>stroke</th>\n",
              "      <th></th>\n",
              "      <th></th>\n",
              "      <th></th>\n",
              "      <th></th>\n",
              "    </tr>\n",
              "  </thead>\n",
              "  <tbody>\n",
              "    <tr>\n",
              "      <th>No</th>\n",
              "      <td>3019</td>\n",
              "      <td>2</td>\n",
              "      <td>Urban</td>\n",
              "      <td>1529</td>\n",
              "    </tr>\n",
              "    <tr>\n",
              "      <th>Yes</th>\n",
              "      <td>246</td>\n",
              "      <td>2</td>\n",
              "      <td>Urban</td>\n",
              "      <td>134</td>\n",
              "    </tr>\n",
              "  </tbody>\n",
              "</table>\n",
              "</div>"
            ],
            "text/plain": [
              "       count unique    top  freq\n",
              "stroke                          \n",
              "No      3019      2  Urban  1529\n",
              "Yes      246      2  Urban   134"
            ]
          },
          "metadata": {},
          "output_type": "display_data"
        }
      ],
      "source": [
        "display(freq_tbl(data51['Residence_type']))\n",
        "display(freq_tbl(dataYes['Residence_type']))\n",
        "display(data5.groupby('stroke')['Residence_type'].describe())\n",
        "display(data51.groupby('stroke')['Residence_type'].describe())"
      ]
    },
    {
      "cell_type": "code",
      "execution_count": null,
      "metadata": {
        "id": "rYSCNTtX3qg7"
      },
      "outputs": [],
      "source": [
        "filename = \"dataOver35.csv\"\n",
        "data51.to_csv(filename, index = False)\n",
        "# I export and see the correlations on Pandas Report Profile other Colab, becase it crashed on this env\n",
        "# https://colab.research.google.com/drive/1oBoFTxfQzrl_EHfAo6921y3AQ3tp-Qn0?usp=sharing\n",
        "# I will keep the over 35 data"
      ]
    },
    {
      "cell_type": "markdown",
      "metadata": {
        "id": "3vfrIikA3qg7"
      },
      "source": [
        "### Let the dataframe ready for the inputs in gradio"
      ]
    },
    {
      "cell_type": "code",
      "execution_count": null,
      "metadata": {
        "id": "N7tYJdYs3qg7",
        "outputId": "041010b8-f9b6-4530-9575-a14a6dfc5318"
      },
      "outputs": [
        {
          "data": {
            "text/html": [
              "<div>\n",
              "<style scoped>\n",
              "    .dataframe tbody tr th:only-of-type {\n",
              "        vertical-align: middle;\n",
              "    }\n",
              "\n",
              "    .dataframe tbody tr th {\n",
              "        vertical-align: top;\n",
              "    }\n",
              "\n",
              "    .dataframe thead th {\n",
              "        text-align: right;\n",
              "    }\n",
              "</style>\n",
              "<table border=\"1\" class=\"dataframe\">\n",
              "  <thead>\n",
              "    <tr style=\"text-align: right;\">\n",
              "      <th></th>\n",
              "      <th>variable</th>\n",
              "      <th>q_nan</th>\n",
              "      <th>p_nan</th>\n",
              "      <th>q_zeros</th>\n",
              "      <th>p_zeros</th>\n",
              "      <th>unique</th>\n",
              "      <th>type</th>\n",
              "    </tr>\n",
              "  </thead>\n",
              "  <tbody>\n",
              "    <tr>\n",
              "      <th>0</th>\n",
              "      <td>gender</td>\n",
              "      <td>0</td>\n",
              "      <td>0.000000</td>\n",
              "      <td>0</td>\n",
              "      <td>0.0</td>\n",
              "      <td>2</td>\n",
              "      <td>object</td>\n",
              "    </tr>\n",
              "    <tr>\n",
              "      <th>1</th>\n",
              "      <td>age</td>\n",
              "      <td>0</td>\n",
              "      <td>0.000000</td>\n",
              "      <td>0</td>\n",
              "      <td>0.0</td>\n",
              "      <td>48</td>\n",
              "      <td>float64</td>\n",
              "    </tr>\n",
              "    <tr>\n",
              "      <th>2</th>\n",
              "      <td>hypertension</td>\n",
              "      <td>0</td>\n",
              "      <td>0.000000</td>\n",
              "      <td>0</td>\n",
              "      <td>0.0</td>\n",
              "      <td>2</td>\n",
              "      <td>object</td>\n",
              "    </tr>\n",
              "    <tr>\n",
              "      <th>3</th>\n",
              "      <td>heart_disease</td>\n",
              "      <td>0</td>\n",
              "      <td>0.000000</td>\n",
              "      <td>0</td>\n",
              "      <td>0.0</td>\n",
              "      <td>2</td>\n",
              "      <td>object</td>\n",
              "    </tr>\n",
              "    <tr>\n",
              "      <th>4</th>\n",
              "      <td>ever_married</td>\n",
              "      <td>0</td>\n",
              "      <td>0.000000</td>\n",
              "      <td>0</td>\n",
              "      <td>0.0</td>\n",
              "      <td>2</td>\n",
              "      <td>object</td>\n",
              "    </tr>\n",
              "    <tr>\n",
              "      <th>5</th>\n",
              "      <td>work_type</td>\n",
              "      <td>0</td>\n",
              "      <td>0.000000</td>\n",
              "      <td>0</td>\n",
              "      <td>0.0</td>\n",
              "      <td>3</td>\n",
              "      <td>object</td>\n",
              "    </tr>\n",
              "    <tr>\n",
              "      <th>6</th>\n",
              "      <td>Residence_type</td>\n",
              "      <td>0</td>\n",
              "      <td>0.000000</td>\n",
              "      <td>0</td>\n",
              "      <td>0.0</td>\n",
              "      <td>2</td>\n",
              "      <td>object</td>\n",
              "    </tr>\n",
              "    <tr>\n",
              "      <th>7</th>\n",
              "      <td>avg_glucose_level</td>\n",
              "      <td>0</td>\n",
              "      <td>0.000000</td>\n",
              "      <td>0</td>\n",
              "      <td>0.0</td>\n",
              "      <td>2831</td>\n",
              "      <td>float64</td>\n",
              "    </tr>\n",
              "    <tr>\n",
              "      <th>8</th>\n",
              "      <td>bmi</td>\n",
              "      <td>154</td>\n",
              "      <td>0.047167</td>\n",
              "      <td>0</td>\n",
              "      <td>0.0</td>\n",
              "      <td>360</td>\n",
              "      <td>float64</td>\n",
              "    </tr>\n",
              "    <tr>\n",
              "      <th>9</th>\n",
              "      <td>smoking_status</td>\n",
              "      <td>0</td>\n",
              "      <td>0.000000</td>\n",
              "      <td>0</td>\n",
              "      <td>0.0</td>\n",
              "      <td>4</td>\n",
              "      <td>object</td>\n",
              "    </tr>\n",
              "  </tbody>\n",
              "</table>\n",
              "</div>"
            ],
            "text/plain": [
              "            variable  q_nan     p_nan  q_zeros  p_zeros  unique     type\n",
              "0             gender      0  0.000000        0      0.0       2   object\n",
              "1                age      0  0.000000        0      0.0      48  float64\n",
              "2       hypertension      0  0.000000        0      0.0       2   object\n",
              "3      heart_disease      0  0.000000        0      0.0       2   object\n",
              "4       ever_married      0  0.000000        0      0.0       2   object\n",
              "5          work_type      0  0.000000        0      0.0       3   object\n",
              "6     Residence_type      0  0.000000        0      0.0       2   object\n",
              "7  avg_glucose_level      0  0.000000        0      0.0    2831  float64\n",
              "8                bmi    154  0.047167        0      0.0     360  float64\n",
              "9     smoking_status      0  0.000000        0      0.0       4   object"
            ]
          },
          "execution_count": 202,
          "metadata": {},
          "output_type": "execute_result"
        }
      ],
      "source": [
        "data4 = data51.copy()\n",
        "data4 = data4.drop('stroke', axis=1)\n",
        "status(data4)"
      ]
    },
    {
      "cell_type": "markdown",
      "metadata": {
        "id": "-WJvJyy43qg8"
      },
      "source": [
        "# 2. Kneading data"
      ]
    },
    {
      "cell_type": "code",
      "execution_count": null,
      "metadata": {
        "id": "SsHZ_T3z3qg9",
        "outputId": "ab9e26d8-29c6-4cc1-d7a6-ee4fccc22d38"
      },
      "outputs": [
        {
          "data": {
            "text/plain": [
              "(3265, 11)"
            ]
          },
          "execution_count": 203,
          "metadata": {},
          "output_type": "execute_result"
        }
      ],
      "source": [
        "data3=data51.copy()\n",
        "data3.shape"
      ]
    },
    {
      "cell_type": "markdown",
      "metadata": {
        "id": "toPaakgY3qg9"
      },
      "source": [
        "### 2.1 Outliers"
      ]
    },
    {
      "cell_type": "code",
      "execution_count": null,
      "metadata": {
        "id": "30Yltc883qg9",
        "outputId": "677420df-b0bd-4776-da25-99c5ffd7f359"
      },
      "outputs": [
        {
          "data": {
            "text/plain": [
              "<Axes: >"
            ]
          },
          "metadata": {},
          "output_type": "display_data"
        },
        {
          "data": {
            "text/plain": [
              "<Axes: >"
            ]
          },
          "metadata": {},
          "output_type": "display_data"
        },
        {
          "data": {
            "text/plain": [
              "<Axes: >"
            ]
          },
          "metadata": {},
          "output_type": "display_data"
        },
        {
          "data": {
            "image/png": "[encoded data removed]",
            "text/plain": [
              "<Figure size 640x480 with 1 Axes>"
            ]
          },
          "metadata": {},
          "output_type": "display_data"
        }
      ],
      "source": [
        "display(data3['avg_glucose_level'].hist())\n",
        "display(data3['bmi'].hist())\n",
        "display(data3['age'].hist())\n",
        "\n"
      ]
    },
    {
      "cell_type": "code",
      "execution_count": null,
      "metadata": {
        "id": "GUtnET_E3qg9",
        "outputId": "f8c83dfe-2179-4e51-fd37-7cde7b721d5f"
      },
      "outputs": [
        {
          "data": {
            "text/plain": [
              "<Axes: >"
            ]
          },
          "metadata": {},
          "output_type": "display_data"
        },
        {
          "data": {
            "image/png": "[encoded data removed]",
            "text/plain": [
              "<Figure size 640x480 with 1 Axes>"
            ]
          },
          "metadata": {},
          "output_type": "display_data"
        }
      ],
      "source": [
        "display(data3['avg_glucose_level'].hist())\n"
      ]
    },
    {
      "cell_type": "code",
      "execution_count": null,
      "metadata": {
        "id": "KA7ICKHE3qg-",
        "outputId": "f123a713-892f-4a88-8b41-e05df6ba2a38"
      },
      "outputs": [
        {
          "data": {
            "image/png": "[encoded data removed]",
            "text/plain": [
              "<Figure size 640x480 with 1 Axes>"
            ]
          },
          "metadata": {},
          "output_type": "display_data"
        }
      ],
      "source": [
        "import matplotlib.pyplot as plt\n",
        "# Custom style\n",
        "plt.style.use({\n",
        "    'figure.facecolor': 'white',\n",
        "    'axes.facecolor': 'white',\n",
        "    'axes.edgecolor': 'black',\n",
        "    'axes.grid': True,\n",
        "    'grid.color': 'grey',\n",
        "    'grid.linestyle': '--',\n",
        "    'text.color': 'black',\n",
        "    'xtick.color': 'black',\n",
        "    'ytick.color': 'black',\n",
        "    'xtick.direction': 'in',\n",
        "    'ytick.direction': 'in',\n",
        "    'lines.solid_capstyle': 'round',\n",
        "    'patch.edgecolor': 'black',\n",
        "    'patch.force_edgecolor': True,\n",
        "    'image.cmap': 'viridis',\n",
        "})\n",
        "\n",
        "data3['bmi'].hist(color='orange')\n",
        "plt.show()\n"
      ]
    },
    {
      "cell_type": "code",
      "execution_count": null,
      "metadata": {
        "id": "4V9Q2m_23qg-",
        "outputId": "a6234c36-5868-4208-86c7-3a572a0aae17"
      },
      "outputs": [
        {
          "data": {
            "image/png": "[encoded data removed]",
            "text/plain": [
              "<Figure size 640x480 with 1 Axes>"
            ]
          },
          "metadata": {},
          "output_type": "display_data"
        }
      ],
      "source": [
        "# green color\n",
        "data3['age'].hist(color='green')\n",
        "plt.show()"
      ]
    },
    {
      "cell_type": "code",
      "execution_count": null,
      "metadata": {
        "id": "sx4fypjm3qg-",
        "outputId": "ec2385ea-b571-431f-d0b8-c7286a039237"
      },
      "outputs": [
        {
          "data": {
            "text/plain": [
              "92.0"
            ]
          },
          "metadata": {},
          "output_type": "display_data"
        },
        {
          "data": {
            "text/plain": [
              "30.89726775956284"
            ]
          },
          "metadata": {},
          "output_type": "display_data"
        },
        {
          "data": {
            "text/plain": [
              "29.8"
            ]
          },
          "metadata": {},
          "output_type": "display_data"
        }
      ],
      "source": [
        "# let see BMI\n",
        "display(data3['bmi'].max())\n",
        "display(data3['bmi'].mean())\n",
        "display(data3['bmi'].median())"
      ]
    },
    {
      "cell_type": "code",
      "execution_count": null,
      "metadata": {
        "id": "7vBf93jv3qg_",
        "outputId": "ae01540f-d9bc-4b8b-ffe1-402e7a16f13a"
      },
      "outputs": [
        {
          "data": {
            "text/plain": [
              "array([11.3, 11.5, 14.1, 14.2, 15. , 16. , 16.1, 16.4, 16.7, 16.9, 17.3,\n",
              "       17.4, 17.6, 17.7, 17.9, 18.1, 18.2, 18.3, 18.4, 18.5, 18.7, 18.8,\n",
              "       19.1, 19.2, 19.3, 19.4, 19.5, 19.6, 19.7, 19.8, 19.9, 20. , 20.1,\n",
              "       20.2, 20.3, 20.4, 20.5, 20.6, 20.7, 20.8, 20.9, 21. , 21.1, 21.2,\n",
              "       21.3, 21.4, 21.5, 21.6, 21.7, 21.8, 21.9, 22. , 22.1, 22.2, 22.3,\n",
              "       22.4, 22.5, 22.6, 22.7, 22.8, 22.9, 23. , 23.1, 23.2, 23.3, 23.4,\n",
              "       23.5, 23.6, 23.7, 23.8, 23.9, 24. , 24.1, 24.2, 24.3, 24.4, 24.5,\n",
              "       24.6, 24.7, 24.8, 24.9, 25. , 25.1, 25.2, 25.3, 25.4, 25.5, 25.6,\n",
              "       25.7, 25.8, 25.9, 26. , 26.1, 26.2, 26.3, 26.4, 26.5, 26.6, 26.7,\n",
              "       26.8, 26.9, 27. , 27.1, 27.2, 27.3, 27.4, 27.5, 27.6, 27.7, 27.8,\n",
              "       27.9, 28. , 28.1, 28.2, 28.3, 28.4, 28.5, 28.6, 28.7, 28.8, 28.9,\n",
              "       29. , 29.1, 29.2, 29.3, 29.4, 29.5, 29.6, 29.7, 29.8, 29.9, 30. ,\n",
              "       30.1, 30.2, 30.3, 30.4, 30.5, 30.6, 30.7, 30.8, 30.9, 31. , 31.1,\n",
              "       31.2, 31.3, 31.4, 31.5, 31.6, 31.7, 31.8, 31.9, 32. , 32.1, 32.2,\n",
              "       32.3, 32.4, 32.5, 32.6, 32.7, 32.8, 32.9, 33. , 33.1, 33.2, 33.3,\n",
              "       33.4, 33.5, 33.6, 33.7, 33.8, 33.9, 34. , 34.1, 34.2, 34.3, 34.4,\n",
              "       34.5, 34.6, 34.7, 34.8, 34.9, 35. , 35.1, 35.2, 35.3, 35.4, 35.5,\n",
              "       35.6, 35.7, 35.8, 35.9, 36. , 36.1, 36.2, 36.3, 36.4, 36.5, 36.6,\n",
              "       36.7, 36.8, 36.9, 37. , 37.1, 37.2, 37.3, 37.4, 37.5, 37.6, 37.7,\n",
              "       37.8, 37.9, 38. , 38.1, 38.2, 38.3, 38.4, 38.5, 38.6, 38.7, 38.8,\n",
              "       38.9, 39. , 39.1, 39.2, 39.3, 39.4, 39.5, 39.6, 39.7, 39.8, 39.9,\n",
              "       40. , 40.1, 40.2, 40.3, 40.4, 40.5, 40.6, 40.7, 40.8, 40.9, 41. ,\n",
              "       41.1, 41.2, 41.3, 41.4, 41.5, 41.6, 41.7, 41.8, 41.9, 42. , 42.1,\n",
              "       42.2, 42.3, 42.4, 42.5, 42.6, 42.7, 42.8, 42.9, 43. , 43.1, 43.2,\n",
              "       43.3, 43.4, 43.6, 43.7, 43.8, 43.9, 44. , 44.1, 44.2, 44.3, 44.5,\n",
              "       44.6, 44.7, 44.8, 44.9, 45. , 45.1, 45.2, 45.3, 45.4, 45.5, 45.7,\n",
              "       45.8, 45.9, 46. , 46.1, 46.2, 46.4, 46.5, 46.6, 46.9, 47.1, 47.3,\n",
              "       47.4, 47.5, 47.6, 47.9, 48. , 48.1, 48.2, 48.3, 48.7, 48.8, 48.9,\n",
              "       49.2, 49.3, 49.4, 49.5, 49.8, 50.1, 50.2, 50.3, 50.4, 50.5, 50.6,\n",
              "       50.8, 50.9, 51.5, 51.7, 51.8, 51.9, 52.5, 52.7, 52.8, 52.9, 53.4,\n",
              "       53.5, 53.8, 54. , 54.1, 54.2, 54.3, 54.6, 54.7, 54.8, 55. , 55.2,\n",
              "       55.7, 55.9, 56. , 56.1, 56.6, 57.2, 57.3, 57.7, 57.9, 58.1, 59.7,\n",
              "       60.2, 60.9, 61.2, 61.6, 64.8, 66.8, 71.9, 92. ,  nan])"
            ]
          },
          "execution_count": 209,
          "metadata": {},
          "output_type": "execute_result"
        }
      ],
      "source": [
        "#is posible 92?\n",
        "data3['bmi'].sort_values().unique()"
      ]
    },
    {
      "cell_type": "code",
      "execution_count": null,
      "metadata": {
        "id": "HkFkdND43qg_",
        "outputId": "4daaeafd-8699-4de0-fff4-f799840e6f21"
      },
      "outputs": [
        {
          "data": {
            "text/plain": [
              "stroke\n",
              "Yes    39\n",
              "Name: count, dtype: int64"
            ]
          },
          "execution_count": 210,
          "metadata": {},
          "output_type": "execute_result"
        }
      ],
      "source": [
        "#how much nan are has stroke\n",
        "bmi = data3[data3['bmi'].isna()]\n",
        "bmiYes = bmi[bmi['stroke']=='Yes']\n",
        "bmiYes['stroke'].value_counts()"
      ]
    },
    {
      "cell_type": "code",
      "execution_count": null,
      "metadata": {
        "id": "iuEb8_nL3qg_",
        "outputId": "bbb31631-7950-41f1-fb48-e0b4649060b4"
      },
      "outputs": [
        {
          "data": {
            "text/plain": [
              "stroke\n",
              "No     3019\n",
              "Yes     246\n",
              "Name: count, dtype: int64"
            ]
          },
          "execution_count": 211,
          "metadata": {},
          "output_type": "execute_result"
        }
      ],
      "source": [
        "data3['stroke'].value_counts()"
      ]
    },
    {
      "cell_type": "markdown",
      "metadata": {
        "id": "142u-Isk3qhA"
      },
      "source": [
        "### 2.2 Making categories"
      ]
    },
    {
      "cell_type": "code",
      "execution_count": null,
      "metadata": {
        "id": "9GYIyXQL3qhA",
        "outputId": "b9a8546a-e2b3-46d1-ae93-1a1fe11c6d64"
      },
      "outputs": [
        {
          "data": {
            "text/plain": [
              "array([35., 36., 37., 38., 39., 40., 41., 42., 43., 44., 45., 46., 47.,\n",
              "       48., 49., 50., 51., 52., 53., 54., 55., 56., 57., 58., 59., 60.,\n",
              "       61., 62., 63., 64., 65., 66., 67., 68., 69., 70., 71., 72., 73.,\n",
              "       74., 75., 76., 77., 78., 79., 80., 81., 82.])"
            ]
          },
          "execution_count": 212,
          "metadata": {},
          "output_type": "execute_result"
        }
      ],
      "source": [
        "data3['age'].sort_values().unique()"
      ]
    },
    {
      "cell_type": "code",
      "execution_count": null,
      "metadata": {
        "id": "bFtvrj-O3qhA",
        "outputId": "f3082214-2c34-4f32-a704-781d2511e13a"
      },
      "outputs": [
        {
          "data": {
            "text/plain": [
              "array([ 55.22,  55.23,  55.26, ..., 267.61, 267.76, 271.74])"
            ]
          },
          "execution_count": 213,
          "metadata": {},
          "output_type": "execute_result"
        }
      ],
      "source": [
        "data3['avg_glucose_level'].sort_values().unique()"
      ]
    },
    {
      "cell_type": "code",
      "execution_count": null,
      "metadata": {
        "id": "URtWqGnR3qhA",
        "outputId": "7f7c97ed-e8a6-466b-aec4-ac0397d0894f"
      },
      "outputs": [
        {
          "data": {
            "text/html": [
              "<div>\n",
              "<style scoped>\n",
              "    .dataframe tbody tr th:only-of-type {\n",
              "        vertical-align: middle;\n",
              "    }\n",
              "\n",
              "    .dataframe tbody tr th {\n",
              "        vertical-align: top;\n",
              "    }\n",
              "\n",
              "    .dataframe thead th {\n",
              "        text-align: right;\n",
              "    }\n",
              "</style>\n",
              "<table border=\"1\" class=\"dataframe\">\n",
              "  <thead>\n",
              "    <tr style=\"text-align: right;\">\n",
              "      <th></th>\n",
              "      <th>bmi</th>\n",
              "      <th>frequency</th>\n",
              "      <th>percentage</th>\n",
              "      <th>cumulative_perc</th>\n",
              "    </tr>\n",
              "  </thead>\n",
              "  <tbody>\n",
              "    <tr>\n",
              "      <th>0</th>\n",
              "      <td>(26.9, 28.4]</td>\n",
              "      <td>326</td>\n",
              "      <td>0.099847</td>\n",
              "      <td>0.104789</td>\n",
              "    </tr>\n",
              "    <tr>\n",
              "      <th>1</th>\n",
              "      <td>(33.3, 35.8]</td>\n",
              "      <td>321</td>\n",
              "      <td>0.098315</td>\n",
              "      <td>0.207972</td>\n",
              "    </tr>\n",
              "    <tr>\n",
              "      <th>2</th>\n",
              "      <td>(11.299000000000001, 23.3]</td>\n",
              "      <td>319</td>\n",
              "      <td>0.097703</td>\n",
              "      <td>0.310511</td>\n",
              "    </tr>\n",
              "    <tr>\n",
              "      <th>3</th>\n",
              "      <td>(23.3, 25.3]</td>\n",
              "      <td>314</td>\n",
              "      <td>0.096172</td>\n",
              "      <td>0.411443</td>\n",
              "    </tr>\n",
              "    <tr>\n",
              "      <th>4</th>\n",
              "      <td>(28.4, 29.8]</td>\n",
              "      <td>308</td>\n",
              "      <td>0.094334</td>\n",
              "      <td>0.510447</td>\n",
              "    </tr>\n",
              "    <tr>\n",
              "      <th>5</th>\n",
              "      <td>(40.0, 92.0]</td>\n",
              "      <td>308</td>\n",
              "      <td>0.094334</td>\n",
              "      <td>0.609450</td>\n",
              "    </tr>\n",
              "    <tr>\n",
              "      <th>6</th>\n",
              "      <td>(25.3, 26.9]</td>\n",
              "      <td>307</td>\n",
              "      <td>0.094028</td>\n",
              "      <td>0.708132</td>\n",
              "    </tr>\n",
              "    <tr>\n",
              "      <th>7</th>\n",
              "      <td>(29.8, 31.4]</td>\n",
              "      <td>304</td>\n",
              "      <td>0.093109</td>\n",
              "      <td>0.805850</td>\n",
              "    </tr>\n",
              "    <tr>\n",
              "      <th>8</th>\n",
              "      <td>(31.4, 33.3]</td>\n",
              "      <td>304</td>\n",
              "      <td>0.093109</td>\n",
              "      <td>0.903568</td>\n",
              "    </tr>\n",
              "    <tr>\n",
              "      <th>9</th>\n",
              "      <td>(35.8, 40.0]</td>\n",
              "      <td>300</td>\n",
              "      <td>0.091884</td>\n",
              "      <td>1.000000</td>\n",
              "    </tr>\n",
              "  </tbody>\n",
              "</table>\n",
              "</div>"
            ],
            "text/plain": [
              "                          bmi  frequency  percentage  cumulative_perc\n",
              "0                (26.9, 28.4]        326    0.099847         0.104789\n",
              "1                (33.3, 35.8]        321    0.098315         0.207972\n",
              "2  (11.299000000000001, 23.3]        319    0.097703         0.310511\n",
              "3                (23.3, 25.3]        314    0.096172         0.411443\n",
              "4                (28.4, 29.8]        308    0.094334         0.510447\n",
              "5                (40.0, 92.0]        308    0.094334         0.609450\n",
              "6                (25.3, 26.9]        307    0.094028         0.708132\n",
              "7                (29.8, 31.4]        304    0.093109         0.805850\n",
              "8                (31.4, 33.3]        304    0.093109         0.903568\n",
              "9                (35.8, 40.0]        300    0.091884         1.000000"
            ]
          },
          "execution_count": 214,
          "metadata": {},
          "output_type": "execute_result"
        }
      ],
      "source": [
        "# I will only make categories in bmi\n",
        "dataBinsTest = data51.copy()\n",
        "data3['bmi'], saved_bins_bmi = pd.qcut(\n",
        "    data3['bmi'],\n",
        "    q=10, duplicates='drop',\n",
        "    retbins=True\n",
        "    )\n",
        "\n",
        "import pickle\n",
        "\n",
        "with open('saved_bins_bmi.pkl', 'wb') as handle:\n",
        "    pickle.dump(saved_bins_bmi, handle, protocol=pickle.HIGHEST_PROTOCOL)\n",
        "freq_tbl(data3['bmi'])\n"
      ]
    },
    {
      "cell_type": "code",
      "execution_count": null,
      "metadata": {
        "id": "n3ALIhpP3qhI",
        "outputId": "ddfc08be-836e-418c-ac00-32e337e5cf73"
      },
      "outputs": [
        {
          "data": {
            "text/plain": [
              "dtype('float64')"
            ]
          },
          "execution_count": 215,
          "metadata": {},
          "output_type": "execute_result"
        }
      ],
      "source": [
        "dataBinsTest['bmi'].dtype"
      ]
    },
    {
      "cell_type": "code",
      "execution_count": null,
      "metadata": {
        "id": "KU_iVuVl3qhJ",
        "outputId": "b743847f-e712-4056-c40d-7e8ddfdd928d"
      },
      "outputs": [
        {
          "data": {
            "text/plain": [
              "CategoricalDtype(categories=[(11.299000000000001, 23.3], (23.3, 25.3], (25.3, 26.9], (26.9, 28.4], (28.4, 29.8], (29.8, 31.4], (31.4, 33.3], (33.3, 35.8], (35.8, 40.0], (40.0, 92.0]], ordered=True, categories_dtype=interval[float64, right])"
            ]
          },
          "execution_count": 216,
          "metadata": {},
          "output_type": "execute_result"
        }
      ],
      "source": [
        "with open('saved_bins_bmi.pkl', 'rb') as handle:\n",
        "    saved_bins_bmi = pickle.load(handle)\n",
        "dataBinsTest[\"bmi\"] = pd.cut(dataBinsTest['bmi'],\n",
        "                        bins=saved_bins_bmi,\n",
        "                        include_lowest=True)\n",
        "dataBinsTest['bmi'].dtype\n"
      ]
    },
    {
      "cell_type": "code",
      "execution_count": null,
      "metadata": {
        "id": "EHaWRJOw3qhJ"
      },
      "outputs": [],
      "source": [
        "data3['bmi'] = data3['bmi'].cat.add_categories('null').fillna('null')\n"
      ]
    },
    {
      "cell_type": "code",
      "execution_count": null,
      "metadata": {
        "id": "0hrs6EX43qhJ",
        "outputId": "749271d2-764a-4cba-da82-cf45af5e222c"
      },
      "outputs": [
        {
          "data": {
            "text/html": [
              "<div>\n",
              "<style scoped>\n",
              "    .dataframe tbody tr th:only-of-type {\n",
              "        vertical-align: middle;\n",
              "    }\n",
              "\n",
              "    .dataframe tbody tr th {\n",
              "        vertical-align: top;\n",
              "    }\n",
              "\n",
              "    .dataframe thead th {\n",
              "        text-align: right;\n",
              "    }\n",
              "</style>\n",
              "<table border=\"1\" class=\"dataframe\">\n",
              "  <thead>\n",
              "    <tr style=\"text-align: right;\">\n",
              "      <th></th>\n",
              "      <th>bmi</th>\n",
              "      <th>frequency</th>\n",
              "      <th>percentage</th>\n",
              "      <th>cumulative_perc</th>\n",
              "    </tr>\n",
              "  </thead>\n",
              "  <tbody>\n",
              "    <tr>\n",
              "      <th>0</th>\n",
              "      <td>(26.9, 28.4]</td>\n",
              "      <td>326</td>\n",
              "      <td>0.099847</td>\n",
              "      <td>0.099847</td>\n",
              "    </tr>\n",
              "    <tr>\n",
              "      <th>1</th>\n",
              "      <td>(33.3, 35.8]</td>\n",
              "      <td>321</td>\n",
              "      <td>0.098315</td>\n",
              "      <td>0.198162</td>\n",
              "    </tr>\n",
              "    <tr>\n",
              "      <th>2</th>\n",
              "      <td>(11.299000000000001, 23.3]</td>\n",
              "      <td>319</td>\n",
              "      <td>0.097703</td>\n",
              "      <td>0.295865</td>\n",
              "    </tr>\n",
              "    <tr>\n",
              "      <th>3</th>\n",
              "      <td>(23.3, 25.3]</td>\n",
              "      <td>314</td>\n",
              "      <td>0.096172</td>\n",
              "      <td>0.392037</td>\n",
              "    </tr>\n",
              "    <tr>\n",
              "      <th>4</th>\n",
              "      <td>(28.4, 29.8]</td>\n",
              "      <td>308</td>\n",
              "      <td>0.094334</td>\n",
              "      <td>0.486371</td>\n",
              "    </tr>\n",
              "    <tr>\n",
              "      <th>5</th>\n",
              "      <td>(40.0, 92.0]</td>\n",
              "      <td>308</td>\n",
              "      <td>0.094334</td>\n",
              "      <td>0.580704</td>\n",
              "    </tr>\n",
              "    <tr>\n",
              "      <th>6</th>\n",
              "      <td>(25.3, 26.9]</td>\n",
              "      <td>307</td>\n",
              "      <td>0.094028</td>\n",
              "      <td>0.674732</td>\n",
              "    </tr>\n",
              "    <tr>\n",
              "      <th>7</th>\n",
              "      <td>(29.8, 31.4]</td>\n",
              "      <td>304</td>\n",
              "      <td>0.093109</td>\n",
              "      <td>0.767841</td>\n",
              "    </tr>\n",
              "    <tr>\n",
              "      <th>8</th>\n",
              "      <td>(31.4, 33.3]</td>\n",
              "      <td>304</td>\n",
              "      <td>0.093109</td>\n",
              "      <td>0.860949</td>\n",
              "    </tr>\n",
              "    <tr>\n",
              "      <th>9</th>\n",
              "      <td>(35.8, 40.0]</td>\n",
              "      <td>300</td>\n",
              "      <td>0.091884</td>\n",
              "      <td>0.952833</td>\n",
              "    </tr>\n",
              "    <tr>\n",
              "      <th>10</th>\n",
              "      <td>null</td>\n",
              "      <td>154</td>\n",
              "      <td>0.047167</td>\n",
              "      <td>1.000000</td>\n",
              "    </tr>\n",
              "  </tbody>\n",
              "</table>\n",
              "</div>"
            ],
            "text/plain": [
              "                           bmi  frequency  percentage  cumulative_perc\n",
              "0                 (26.9, 28.4]        326    0.099847         0.099847\n",
              "1                 (33.3, 35.8]        321    0.098315         0.198162\n",
              "2   (11.299000000000001, 23.3]        319    0.097703         0.295865\n",
              "3                 (23.3, 25.3]        314    0.096172         0.392037\n",
              "4                 (28.4, 29.8]        308    0.094334         0.486371\n",
              "5                 (40.0, 92.0]        308    0.094334         0.580704\n",
              "6                 (25.3, 26.9]        307    0.094028         0.674732\n",
              "7                 (29.8, 31.4]        304    0.093109         0.767841\n",
              "8                 (31.4, 33.3]        304    0.093109         0.860949\n",
              "9                 (35.8, 40.0]        300    0.091884         0.952833\n",
              "10                        null        154    0.047167         1.000000"
            ]
          },
          "execution_count": 86,
          "metadata": {},
          "output_type": "execute_result"
        }
      ],
      "source": [
        "freq_tbl(data3['bmi'])"
      ]
    },
    {
      "cell_type": "code",
      "execution_count": null,
      "metadata": {
        "id": "BT78bEl33qhK",
        "outputId": "e665b5dc-7260-491d-8f0d-f51e12be5ed8"
      },
      "outputs": [
        {
          "data": {
            "text/html": [
              "<div>\n",
              "<style scoped>\n",
              "    .dataframe tbody tr th:only-of-type {\n",
              "        vertical-align: middle;\n",
              "    }\n",
              "\n",
              "    .dataframe tbody tr th {\n",
              "        vertical-align: top;\n",
              "    }\n",
              "\n",
              "    .dataframe thead th {\n",
              "        text-align: right;\n",
              "    }\n",
              "</style>\n",
              "<table border=\"1\" class=\"dataframe\">\n",
              "  <thead>\n",
              "    <tr style=\"text-align: right;\">\n",
              "      <th></th>\n",
              "      <th>variable</th>\n",
              "      <th>q_nan</th>\n",
              "      <th>p_nan</th>\n",
              "      <th>q_zeros</th>\n",
              "      <th>p_zeros</th>\n",
              "      <th>unique</th>\n",
              "      <th>type</th>\n",
              "    </tr>\n",
              "  </thead>\n",
              "  <tbody>\n",
              "    <tr>\n",
              "      <th>0</th>\n",
              "      <td>gender</td>\n",
              "      <td>0</td>\n",
              "      <td>0.0</td>\n",
              "      <td>0</td>\n",
              "      <td>0.0</td>\n",
              "      <td>2</td>\n",
              "      <td>object</td>\n",
              "    </tr>\n",
              "    <tr>\n",
              "      <th>1</th>\n",
              "      <td>age</td>\n",
              "      <td>0</td>\n",
              "      <td>0.0</td>\n",
              "      <td>0</td>\n",
              "      <td>0.0</td>\n",
              "      <td>48</td>\n",
              "      <td>float64</td>\n",
              "    </tr>\n",
              "    <tr>\n",
              "      <th>2</th>\n",
              "      <td>hypertension</td>\n",
              "      <td>0</td>\n",
              "      <td>0.0</td>\n",
              "      <td>0</td>\n",
              "      <td>0.0</td>\n",
              "      <td>2</td>\n",
              "      <td>object</td>\n",
              "    </tr>\n",
              "    <tr>\n",
              "      <th>3</th>\n",
              "      <td>heart_disease</td>\n",
              "      <td>0</td>\n",
              "      <td>0.0</td>\n",
              "      <td>0</td>\n",
              "      <td>0.0</td>\n",
              "      <td>2</td>\n",
              "      <td>object</td>\n",
              "    </tr>\n",
              "    <tr>\n",
              "      <th>4</th>\n",
              "      <td>ever_married</td>\n",
              "      <td>0</td>\n",
              "      <td>0.0</td>\n",
              "      <td>0</td>\n",
              "      <td>0.0</td>\n",
              "      <td>2</td>\n",
              "      <td>object</td>\n",
              "    </tr>\n",
              "    <tr>\n",
              "      <th>5</th>\n",
              "      <td>work_type</td>\n",
              "      <td>0</td>\n",
              "      <td>0.0</td>\n",
              "      <td>0</td>\n",
              "      <td>0.0</td>\n",
              "      <td>3</td>\n",
              "      <td>object</td>\n",
              "    </tr>\n",
              "    <tr>\n",
              "      <th>6</th>\n",
              "      <td>Residence_type</td>\n",
              "      <td>0</td>\n",
              "      <td>0.0</td>\n",
              "      <td>0</td>\n",
              "      <td>0.0</td>\n",
              "      <td>2</td>\n",
              "      <td>object</td>\n",
              "    </tr>\n",
              "    <tr>\n",
              "      <th>7</th>\n",
              "      <td>avg_glucose_level</td>\n",
              "      <td>0</td>\n",
              "      <td>0.0</td>\n",
              "      <td>0</td>\n",
              "      <td>0.0</td>\n",
              "      <td>2831</td>\n",
              "      <td>float64</td>\n",
              "    </tr>\n",
              "    <tr>\n",
              "      <th>8</th>\n",
              "      <td>bmi</td>\n",
              "      <td>0</td>\n",
              "      <td>0.0</td>\n",
              "      <td>0</td>\n",
              "      <td>0.0</td>\n",
              "      <td>11</td>\n",
              "      <td>category</td>\n",
              "    </tr>\n",
              "    <tr>\n",
              "      <th>9</th>\n",
              "      <td>smoking_status</td>\n",
              "      <td>0</td>\n",
              "      <td>0.0</td>\n",
              "      <td>0</td>\n",
              "      <td>0.0</td>\n",
              "      <td>4</td>\n",
              "      <td>object</td>\n",
              "    </tr>\n",
              "    <tr>\n",
              "      <th>10</th>\n",
              "      <td>stroke</td>\n",
              "      <td>0</td>\n",
              "      <td>0.0</td>\n",
              "      <td>0</td>\n",
              "      <td>0.0</td>\n",
              "      <td>2</td>\n",
              "      <td>object</td>\n",
              "    </tr>\n",
              "  </tbody>\n",
              "</table>\n",
              "</div>"
            ],
            "text/plain": [
              "             variable  q_nan  p_nan  q_zeros  p_zeros  unique      type\n",
              "0              gender      0    0.0        0      0.0       2    object\n",
              "1                 age      0    0.0        0      0.0      48   float64\n",
              "2        hypertension      0    0.0        0      0.0       2    object\n",
              "3       heart_disease      0    0.0        0      0.0       2    object\n",
              "4        ever_married      0    0.0        0      0.0       2    object\n",
              "5           work_type      0    0.0        0      0.0       3    object\n",
              "6      Residence_type      0    0.0        0      0.0       2    object\n",
              "7   avg_glucose_level      0    0.0        0      0.0    2831   float64\n",
              "8                 bmi      0    0.0        0      0.0      11  category\n",
              "9      smoking_status      0    0.0        0      0.0       4    object\n",
              "10             stroke      0    0.0        0      0.0       2    object"
            ]
          },
          "execution_count": 87,
          "metadata": {},
          "output_type": "execute_result"
        }
      ],
      "source": [
        "status(data3)"
      ]
    },
    {
      "cell_type": "markdown",
      "metadata": {
        "id": "UeUNkDMm3qhK"
      },
      "source": [
        "# 3. OHE & Yes No columns"
      ]
    },
    {
      "cell_type": "code",
      "execution_count": null,
      "metadata": {
        "id": "5bdDhgcD3qhK"
      },
      "outputs": [],
      "source": [
        "data2=data3.copy()"
      ]
    },
    {
      "cell_type": "code",
      "execution_count": null,
      "metadata": {
        "id": "3LVTHbNh3qhL",
        "outputId": "fb98ddbd-6d8e-4461-8ae9-0b77d85cc749"
      },
      "outputs": [
        {
          "name": "stdout",
          "output_type": "stream",
          "text": [
            "Valores únicos de la columna gender:\n",
            "0. Male\n",
            "1. Female\n",
            "\n",
            "Valores únicos de la columna hypertension:\n",
            "0. No\n",
            "1. Yes\n",
            "\n",
            "Valores únicos de la columna heart_disease:\n",
            "0. Yes\n",
            "1. No\n",
            "\n",
            "Valores únicos de la columna ever_married:\n",
            "0. Yes\n",
            "1. No\n",
            "\n",
            "Valores únicos de la columna work_type:\n",
            "0. Private\n",
            "1. Self-employed\n",
            "2. Govt_job\n",
            "\n",
            "Valores únicos de la columna Residence_type:\n",
            "0. Urban\n",
            "1. Rural\n",
            "\n",
            "Valores únicos de la columna smoking_status:\n",
            "0. formerly smoked\n",
            "1. never smoked\n",
            "2. smokes\n",
            "3. Unknown\n",
            "\n"
          ]
        }
      ],
      "source": [
        "for columna in data4:\n",
        "    # Verificar si el tipo de dato es \"object\"\n",
        "    if data4[columna].dtype == 'object':\n",
        "        # Obtener los valores únicos de la columna\n",
        "        valores_unicos = data4[columna].unique()\n",
        "\n",
        "        # Imprimir los valores únicos de la columna con números secuenciales\n",
        "        print(f\"Valores únicos de la columna {columna}:\")\n",
        "        if len(valores_unicos) < 6:\n",
        "            for indice, valor in enumerate(valores_unicos):\n",
        "                print(f\"{indice}. {valor}\")\n",
        "        print()"
      ]
    },
    {
      "cell_type": "code",
      "execution_count": null,
      "metadata": {
        "id": "v0rZZFaT3qhL",
        "outputId": "0a1be30b-eaca-4810-8a84-375ddb3a9fa8"
      },
      "outputs": [
        {
          "name": "stdout",
          "output_type": "stream",
          "text": [
            "      gender   age  hypertension  heart_disease  ever_married  work_type  \\\n",
            "0          0  67.0             0              0             0          0   \n",
            "1          1  61.0             0              1             0          1   \n",
            "2          0  80.0             0              0             0          0   \n",
            "3          1  49.0             0              1             0          0   \n",
            "4          1  79.0             1              1             0          1   \n",
            "...      ...   ...           ...            ...           ...        ...   \n",
            "5105       1  80.0             1              1             0          0   \n",
            "5106       1  81.0             0              1             0          1   \n",
            "5107       1  35.0             0              1             0          1   \n",
            "5108       0  51.0             0              1             0          0   \n",
            "5109       1  44.0             0              1             0          2   \n",
            "\n",
            "      Residence_type  avg_glucose_level           bmi  smoking_status  stroke  \n",
            "0                  0             228.69  (35.8, 40.0]               0       0  \n",
            "1                  1             202.21          null               1       0  \n",
            "2                  1             105.92  (31.4, 33.3]               1       0  \n",
            "3                  0             171.23  (33.3, 35.8]               2       0  \n",
            "4                  1             174.12  (23.3, 25.3]               1       0  \n",
            "...              ...                ...           ...             ...     ...  \n",
            "5105               0              83.75          null               1       1  \n",
            "5106               0             125.20  (35.8, 40.0]               1       1  \n",
            "5107               1              82.99  (29.8, 31.4]               1       1  \n",
            "5108               1             166.29  (25.3, 26.9]               0       1  \n",
            "5109               0              85.28  (25.3, 26.9]               3       1  \n",
            "\n",
            "[3265 rows x 11 columns]\n"
          ]
        }
      ],
      "source": [
        "data1 = data2.copy()\n",
        "\n",
        "# Iterar sobre las columnas del DataFrame\n",
        "for columna in data1:\n",
        "    # Verificar si el tipo de dato es \"object\"\n",
        "    if data1[columna].dtype == 'object':\n",
        "        # Obtener los valores únicos de la columna\n",
        "        valores_unicos = data1[columna].unique()\n",
        "        if len(valores_unicos) < 6:\n",
        "            # Crear un diccionario de reemplazo\n",
        "            diccionario_reemplazo = {valor: indice for indice, valor in enumerate(valores_unicos)}\n",
        "\n",
        "            # Reemplazar los valores en la columna\n",
        "            data1[columna] = data1[columna].map(diccionario_reemplazo)\n",
        "\n",
        "# Imprimir el DataFrame con los valores reemplazados\n",
        "print(data1)"
      ]
    },
    {
      "cell_type": "code",
      "execution_count": null,
      "metadata": {
        "id": "R71KHC9B3qhL",
        "outputId": "0b0ddb08-4d8b-4afc-9e2f-feb5762dbcc4"
      },
      "outputs": [
        {
          "name": "stdout",
          "output_type": "stream",
          "text": [
            "Valores únicos en la columna gender: [0 1]\n",
            "Valores únicos en la columna hypertension: [0 1]\n",
            "Valores únicos en la columna heart_disease: [0 1]\n",
            "Valores únicos en la columna ever_married: [0 1]\n",
            "Valores únicos en la columna work_type: [0 1 2]\n",
            "Valores únicos en la columna Residence_type: [0 1]\n",
            "Valores únicos en la columna smoking_status: [0 1 2 3]\n",
            "Valores únicos en la columna stroke: [0 1]\n"
          ]
        }
      ],
      "source": [
        "for columna in data1.columns:\n",
        "    valores_unicos = data1[columna].unique()\n",
        "    if len(valores_unicos) < 7:\n",
        "        print(f\"Valores únicos en la columna {columna}: {valores_unicos}\")"
      ]
    },
    {
      "cell_type": "code",
      "execution_count": null,
      "metadata": {
        "id": "dIHTRrUZ3qhM",
        "outputId": "f3c9e526-fd8b-4742-d56a-123454d8d9a6"
      },
      "outputs": [
        {
          "data": {
            "text/html": [
              "<div>\n",
              "<style scoped>\n",
              "    .dataframe tbody tr th:only-of-type {\n",
              "        vertical-align: middle;\n",
              "    }\n",
              "\n",
              "    .dataframe tbody tr th {\n",
              "        vertical-align: top;\n",
              "    }\n",
              "\n",
              "    .dataframe thead th {\n",
              "        text-align: right;\n",
              "    }\n",
              "</style>\n",
              "<table border=\"1\" class=\"dataframe\">\n",
              "  <thead>\n",
              "    <tr style=\"text-align: right;\">\n",
              "      <th></th>\n",
              "      <th>variable</th>\n",
              "      <th>q_nan</th>\n",
              "      <th>p_nan</th>\n",
              "      <th>q_zeros</th>\n",
              "      <th>p_zeros</th>\n",
              "      <th>unique</th>\n",
              "      <th>type</th>\n",
              "    </tr>\n",
              "  </thead>\n",
              "  <tbody>\n",
              "    <tr>\n",
              "      <th>0</th>\n",
              "      <td>gender</td>\n",
              "      <td>0</td>\n",
              "      <td>0.0</td>\n",
              "      <td>1333</td>\n",
              "      <td>0.408270</td>\n",
              "      <td>2</td>\n",
              "      <td>int64</td>\n",
              "    </tr>\n",
              "    <tr>\n",
              "      <th>1</th>\n",
              "      <td>age</td>\n",
              "      <td>0</td>\n",
              "      <td>0.0</td>\n",
              "      <td>0</td>\n",
              "      <td>0.000000</td>\n",
              "      <td>48</td>\n",
              "      <td>float64</td>\n",
              "    </tr>\n",
              "    <tr>\n",
              "      <th>2</th>\n",
              "      <td>hypertension</td>\n",
              "      <td>0</td>\n",
              "      <td>0.0</td>\n",
              "      <td>2786</td>\n",
              "      <td>0.853292</td>\n",
              "      <td>2</td>\n",
              "      <td>int64</td>\n",
              "    </tr>\n",
              "    <tr>\n",
              "      <th>3</th>\n",
              "      <td>heart_disease</td>\n",
              "      <td>0</td>\n",
              "      <td>0.0</td>\n",
              "      <td>273</td>\n",
              "      <td>0.083614</td>\n",
              "      <td>2</td>\n",
              "      <td>int64</td>\n",
              "    </tr>\n",
              "    <tr>\n",
              "      <th>4</th>\n",
              "      <td>ever_married</td>\n",
              "      <td>0</td>\n",
              "      <td>0.0</td>\n",
              "      <td>2954</td>\n",
              "      <td>0.904747</td>\n",
              "      <td>2</td>\n",
              "      <td>int64</td>\n",
              "    </tr>\n",
              "    <tr>\n",
              "      <th>5</th>\n",
              "      <td>work_type</td>\n",
              "      <td>0</td>\n",
              "      <td>0.0</td>\n",
              "      <td>1967</td>\n",
              "      <td>0.602450</td>\n",
              "      <td>3</td>\n",
              "      <td>int64</td>\n",
              "    </tr>\n",
              "    <tr>\n",
              "      <th>6</th>\n",
              "      <td>Residence_type</td>\n",
              "      <td>0</td>\n",
              "      <td>0.0</td>\n",
              "      <td>1663</td>\n",
              "      <td>0.509342</td>\n",
              "      <td>2</td>\n",
              "      <td>int64</td>\n",
              "    </tr>\n",
              "    <tr>\n",
              "      <th>7</th>\n",
              "      <td>avg_glucose_level</td>\n",
              "      <td>0</td>\n",
              "      <td>0.0</td>\n",
              "      <td>0</td>\n",
              "      <td>0.000000</td>\n",
              "      <td>2831</td>\n",
              "      <td>float64</td>\n",
              "    </tr>\n",
              "    <tr>\n",
              "      <th>8</th>\n",
              "      <td>bmi</td>\n",
              "      <td>0</td>\n",
              "      <td>0.0</td>\n",
              "      <td>0</td>\n",
              "      <td>0.000000</td>\n",
              "      <td>11</td>\n",
              "      <td>category</td>\n",
              "    </tr>\n",
              "    <tr>\n",
              "      <th>9</th>\n",
              "      <td>smoking_status</td>\n",
              "      <td>0</td>\n",
              "      <td>0.0</td>\n",
              "      <td>746</td>\n",
              "      <td>0.228484</td>\n",
              "      <td>4</td>\n",
              "      <td>int64</td>\n",
              "    </tr>\n",
              "    <tr>\n",
              "      <th>10</th>\n",
              "      <td>stroke</td>\n",
              "      <td>0</td>\n",
              "      <td>0.0</td>\n",
              "      <td>246</td>\n",
              "      <td>0.075345</td>\n",
              "      <td>2</td>\n",
              "      <td>int64</td>\n",
              "    </tr>\n",
              "  </tbody>\n",
              "</table>\n",
              "</div>"
            ],
            "text/plain": [
              "             variable  q_nan  p_nan  q_zeros   p_zeros  unique      type\n",
              "0              gender      0    0.0     1333  0.408270       2     int64\n",
              "1                 age      0    0.0        0  0.000000      48   float64\n",
              "2        hypertension      0    0.0     2786  0.853292       2     int64\n",
              "3       heart_disease      0    0.0      273  0.083614       2     int64\n",
              "4        ever_married      0    0.0     2954  0.904747       2     int64\n",
              "5           work_type      0    0.0     1967  0.602450       3     int64\n",
              "6      Residence_type      0    0.0     1663  0.509342       2     int64\n",
              "7   avg_glucose_level      0    0.0        0  0.000000    2831   float64\n",
              "8                 bmi      0    0.0        0  0.000000      11  category\n",
              "9      smoking_status      0    0.0      746  0.228484       4     int64\n",
              "10             stroke      0    0.0      246  0.075345       2     int64"
            ]
          },
          "execution_count": 92,
          "metadata": {},
          "output_type": "execute_result"
        }
      ],
      "source": [
        "status(data1)"
      ]
    },
    {
      "cell_type": "code",
      "execution_count": null,
      "metadata": {
        "id": "2iyNiN_O3qhM",
        "outputId": "4a07f130-ac16-4f9c-f23e-7975f4aecccc"
      },
      "outputs": [
        {
          "data": {
            "text/html": [
              "<div>\n",
              "<style scoped>\n",
              "    .dataframe tbody tr th:only-of-type {\n",
              "        vertical-align: middle;\n",
              "    }\n",
              "\n",
              "    .dataframe tbody tr th {\n",
              "        vertical-align: top;\n",
              "    }\n",
              "\n",
              "    .dataframe thead th {\n",
              "        text-align: right;\n",
              "    }\n",
              "</style>\n",
              "<table border=\"1\" class=\"dataframe\">\n",
              "  <thead>\n",
              "    <tr style=\"text-align: right;\">\n",
              "      <th></th>\n",
              "      <th>variable</th>\n",
              "      <th>q_nan</th>\n",
              "      <th>p_nan</th>\n",
              "      <th>q_zeros</th>\n",
              "      <th>p_zeros</th>\n",
              "      <th>unique</th>\n",
              "      <th>type</th>\n",
              "    </tr>\n",
              "  </thead>\n",
              "  <tbody>\n",
              "    <tr>\n",
              "      <th>0</th>\n",
              "      <td>gender</td>\n",
              "      <td>0</td>\n",
              "      <td>0.0</td>\n",
              "      <td>1333</td>\n",
              "      <td>0.408270</td>\n",
              "      <td>2</td>\n",
              "      <td>int64</td>\n",
              "    </tr>\n",
              "    <tr>\n",
              "      <th>1</th>\n",
              "      <td>age</td>\n",
              "      <td>0</td>\n",
              "      <td>0.0</td>\n",
              "      <td>0</td>\n",
              "      <td>0.000000</td>\n",
              "      <td>48</td>\n",
              "      <td>float64</td>\n",
              "    </tr>\n",
              "    <tr>\n",
              "      <th>2</th>\n",
              "      <td>hypertension</td>\n",
              "      <td>0</td>\n",
              "      <td>0.0</td>\n",
              "      <td>2786</td>\n",
              "      <td>0.853292</td>\n",
              "      <td>2</td>\n",
              "      <td>int64</td>\n",
              "    </tr>\n",
              "    <tr>\n",
              "      <th>3</th>\n",
              "      <td>heart_disease</td>\n",
              "      <td>0</td>\n",
              "      <td>0.0</td>\n",
              "      <td>273</td>\n",
              "      <td>0.083614</td>\n",
              "      <td>2</td>\n",
              "      <td>int64</td>\n",
              "    </tr>\n",
              "    <tr>\n",
              "      <th>4</th>\n",
              "      <td>ever_married</td>\n",
              "      <td>0</td>\n",
              "      <td>0.0</td>\n",
              "      <td>2954</td>\n",
              "      <td>0.904747</td>\n",
              "      <td>2</td>\n",
              "      <td>int64</td>\n",
              "    </tr>\n",
              "    <tr>\n",
              "      <th>5</th>\n",
              "      <td>work_type</td>\n",
              "      <td>0</td>\n",
              "      <td>0.0</td>\n",
              "      <td>1967</td>\n",
              "      <td>0.602450</td>\n",
              "      <td>3</td>\n",
              "      <td>int64</td>\n",
              "    </tr>\n",
              "    <tr>\n",
              "      <th>6</th>\n",
              "      <td>Residence_type</td>\n",
              "      <td>0</td>\n",
              "      <td>0.0</td>\n",
              "      <td>1663</td>\n",
              "      <td>0.509342</td>\n",
              "      <td>2</td>\n",
              "      <td>int64</td>\n",
              "    </tr>\n",
              "    <tr>\n",
              "      <th>7</th>\n",
              "      <td>avg_glucose_level</td>\n",
              "      <td>0</td>\n",
              "      <td>0.0</td>\n",
              "      <td>0</td>\n",
              "      <td>0.000000</td>\n",
              "      <td>2831</td>\n",
              "      <td>float64</td>\n",
              "    </tr>\n",
              "    <tr>\n",
              "      <th>8</th>\n",
              "      <td>smoking_status</td>\n",
              "      <td>0</td>\n",
              "      <td>0.0</td>\n",
              "      <td>746</td>\n",
              "      <td>0.228484</td>\n",
              "      <td>4</td>\n",
              "      <td>int64</td>\n",
              "    </tr>\n",
              "    <tr>\n",
              "      <th>9</th>\n",
              "      <td>stroke</td>\n",
              "      <td>0</td>\n",
              "      <td>0.0</td>\n",
              "      <td>246</td>\n",
              "      <td>0.075345</td>\n",
              "      <td>2</td>\n",
              "      <td>int64</td>\n",
              "    </tr>\n",
              "    <tr>\n",
              "      <th>10</th>\n",
              "      <td>bmi_(11.299000000000001, 23.3]</td>\n",
              "      <td>0</td>\n",
              "      <td>0.0</td>\n",
              "      <td>2946</td>\n",
              "      <td>0.902297</td>\n",
              "      <td>2</td>\n",
              "      <td>int64</td>\n",
              "    </tr>\n",
              "    <tr>\n",
              "      <th>11</th>\n",
              "      <td>bmi_(23.3, 25.3]</td>\n",
              "      <td>0</td>\n",
              "      <td>0.0</td>\n",
              "      <td>2951</td>\n",
              "      <td>0.903828</td>\n",
              "      <td>2</td>\n",
              "      <td>int64</td>\n",
              "    </tr>\n",
              "    <tr>\n",
              "      <th>12</th>\n",
              "      <td>bmi_(25.3, 26.9]</td>\n",
              "      <td>0</td>\n",
              "      <td>0.0</td>\n",
              "      <td>2958</td>\n",
              "      <td>0.905972</td>\n",
              "      <td>2</td>\n",
              "      <td>int64</td>\n",
              "    </tr>\n",
              "    <tr>\n",
              "      <th>13</th>\n",
              "      <td>bmi_(26.9, 28.4]</td>\n",
              "      <td>0</td>\n",
              "      <td>0.0</td>\n",
              "      <td>2939</td>\n",
              "      <td>0.900153</td>\n",
              "      <td>2</td>\n",
              "      <td>int64</td>\n",
              "    </tr>\n",
              "    <tr>\n",
              "      <th>14</th>\n",
              "      <td>bmi_(28.4, 29.8]</td>\n",
              "      <td>0</td>\n",
              "      <td>0.0</td>\n",
              "      <td>2957</td>\n",
              "      <td>0.905666</td>\n",
              "      <td>2</td>\n",
              "      <td>int64</td>\n",
              "    </tr>\n",
              "    <tr>\n",
              "      <th>15</th>\n",
              "      <td>bmi_(29.8, 31.4]</td>\n",
              "      <td>0</td>\n",
              "      <td>0.0</td>\n",
              "      <td>2961</td>\n",
              "      <td>0.906891</td>\n",
              "      <td>2</td>\n",
              "      <td>int64</td>\n",
              "    </tr>\n",
              "    <tr>\n",
              "      <th>16</th>\n",
              "      <td>bmi_(31.4, 33.3]</td>\n",
              "      <td>0</td>\n",
              "      <td>0.0</td>\n",
              "      <td>2961</td>\n",
              "      <td>0.906891</td>\n",
              "      <td>2</td>\n",
              "      <td>int64</td>\n",
              "    </tr>\n",
              "    <tr>\n",
              "      <th>17</th>\n",
              "      <td>bmi_(33.3, 35.8]</td>\n",
              "      <td>0</td>\n",
              "      <td>0.0</td>\n",
              "      <td>2944</td>\n",
              "      <td>0.901685</td>\n",
              "      <td>2</td>\n",
              "      <td>int64</td>\n",
              "    </tr>\n",
              "    <tr>\n",
              "      <th>18</th>\n",
              "      <td>bmi_(35.8, 40.0]</td>\n",
              "      <td>0</td>\n",
              "      <td>0.0</td>\n",
              "      <td>2965</td>\n",
              "      <td>0.908116</td>\n",
              "      <td>2</td>\n",
              "      <td>int64</td>\n",
              "    </tr>\n",
              "    <tr>\n",
              "      <th>19</th>\n",
              "      <td>bmi_(40.0, 92.0]</td>\n",
              "      <td>0</td>\n",
              "      <td>0.0</td>\n",
              "      <td>2957</td>\n",
              "      <td>0.905666</td>\n",
              "      <td>2</td>\n",
              "      <td>int64</td>\n",
              "    </tr>\n",
              "    <tr>\n",
              "      <th>20</th>\n",
              "      <td>bmi_null</td>\n",
              "      <td>0</td>\n",
              "      <td>0.0</td>\n",
              "      <td>3111</td>\n",
              "      <td>0.952833</td>\n",
              "      <td>2</td>\n",
              "      <td>int64</td>\n",
              "    </tr>\n",
              "  </tbody>\n",
              "</table>\n",
              "</div>"
            ],
            "text/plain": [
              "                          variable  q_nan  p_nan  q_zeros   p_zeros  unique  \\\n",
              "0                           gender      0    0.0     1333  0.408270       2   \n",
              "1                              age      0    0.0        0  0.000000      48   \n",
              "2                     hypertension      0    0.0     2786  0.853292       2   \n",
              "3                    heart_disease      0    0.0      273  0.083614       2   \n",
              "4                     ever_married      0    0.0     2954  0.904747       2   \n",
              "5                        work_type      0    0.0     1967  0.602450       3   \n",
              "6                   Residence_type      0    0.0     1663  0.509342       2   \n",
              "7                avg_glucose_level      0    0.0        0  0.000000    2831   \n",
              "8                   smoking_status      0    0.0      746  0.228484       4   \n",
              "9                           stroke      0    0.0      246  0.075345       2   \n",
              "10  bmi_(11.299000000000001, 23.3]      0    0.0     2946  0.902297       2   \n",
              "11                bmi_(23.3, 25.3]      0    0.0     2951  0.903828       2   \n",
              "12                bmi_(25.3, 26.9]      0    0.0     2958  0.905972       2   \n",
              "13                bmi_(26.9, 28.4]      0    0.0     2939  0.900153       2   \n",
              "14                bmi_(28.4, 29.8]      0    0.0     2957  0.905666       2   \n",
              "15                bmi_(29.8, 31.4]      0    0.0     2961  0.906891       2   \n",
              "16                bmi_(31.4, 33.3]      0    0.0     2961  0.906891       2   \n",
              "17                bmi_(33.3, 35.8]      0    0.0     2944  0.901685       2   \n",
              "18                bmi_(35.8, 40.0]      0    0.0     2965  0.908116       2   \n",
              "19                bmi_(40.0, 92.0]      0    0.0     2957  0.905666       2   \n",
              "20                        bmi_null      0    0.0     3111  0.952833       2   \n",
              "\n",
              "       type  \n",
              "0     int64  \n",
              "1   float64  \n",
              "2     int64  \n",
              "3     int64  \n",
              "4     int64  \n",
              "5     int64  \n",
              "6     int64  \n",
              "7   float64  \n",
              "8     int64  \n",
              "9     int64  \n",
              "10    int64  \n",
              "11    int64  \n",
              "12    int64  \n",
              "13    int64  \n",
              "14    int64  \n",
              "15    int64  \n",
              "16    int64  \n",
              "17    int64  \n",
              "18    int64  \n",
              "19    int64  \n",
              "20    int64  "
            ]
          },
          "execution_count": 93,
          "metadata": {},
          "output_type": "execute_result"
        }
      ],
      "source": [
        "data_ohe = pd.get_dummies(data1, dtype=int)\n",
        "status(data_ohe)"
      ]
    },
    {
      "cell_type": "markdown",
      "metadata": {
        "id": "-pIjXZlb3qhM"
      },
      "source": [
        "## 4. Over Sample Tecnique"
      ]
    },
    {
      "cell_type": "code",
      "execution_count": null,
      "metadata": {
        "id": "cCa6bUVP3qhN",
        "outputId": "01fdf769-dee9-4c53-d9d2-e96bc3f17ede"
      },
      "outputs": [
        {
          "name": "stdout",
          "output_type": "stream",
          "text": [
            "(3265, 21) \n",
            "\n",
            "stroke\n",
            "1    3019\n",
            "0     246\n",
            "Name: count, dtype: int64\n"
          ]
        }
      ],
      "source": [
        "print(data_ohe.shape, '\\n')\n",
        "print(data_ohe['stroke'].value_counts())"
      ]
    },
    {
      "cell_type": "code",
      "execution_count": null,
      "metadata": {
        "id": "8o5px-vn3qhN",
        "outputId": "30e9ddc1-ddd2-4a8b-bec2-1d367625f5c4"
      },
      "outputs": [
        {
          "data": {
            "text/plain": [
              "(6038, 21)"
            ]
          },
          "metadata": {},
          "output_type": "display_data"
        },
        {
          "data": {
            "text/plain": [
              "stroke\n",
              "0    3019\n",
              "1    3019\n",
              "Name: count, dtype: int64"
            ]
          },
          "metadata": {},
          "output_type": "display_data"
        },
        {
          "data": {
            "text/html": [
              "<div>\n",
              "<style scoped>\n",
              "    .dataframe tbody tr th:only-of-type {\n",
              "        vertical-align: middle;\n",
              "    }\n",
              "\n",
              "    .dataframe tbody tr th {\n",
              "        vertical-align: top;\n",
              "    }\n",
              "\n",
              "    .dataframe thead th {\n",
              "        text-align: right;\n",
              "    }\n",
              "</style>\n",
              "<table border=\"1\" class=\"dataframe\">\n",
              "  <thead>\n",
              "    <tr style=\"text-align: right;\">\n",
              "      <th></th>\n",
              "      <th>variable</th>\n",
              "      <th>q_nan</th>\n",
              "      <th>p_nan</th>\n",
              "      <th>q_zeros</th>\n",
              "      <th>p_zeros</th>\n",
              "      <th>unique</th>\n",
              "      <th>type</th>\n",
              "    </tr>\n",
              "  </thead>\n",
              "  <tbody>\n",
              "    <tr>\n",
              "      <th>0</th>\n",
              "      <td>gender</td>\n",
              "      <td>0</td>\n",
              "      <td>0.0</td>\n",
              "      <td>3164</td>\n",
              "      <td>0.524015</td>\n",
              "      <td>2</td>\n",
              "      <td>int64</td>\n",
              "    </tr>\n",
              "    <tr>\n",
              "      <th>1</th>\n",
              "      <td>age</td>\n",
              "      <td>0</td>\n",
              "      <td>0.0</td>\n",
              "      <td>0</td>\n",
              "      <td>0.000000</td>\n",
              "      <td>2417</td>\n",
              "      <td>float64</td>\n",
              "    </tr>\n",
              "    <tr>\n",
              "      <th>2</th>\n",
              "      <td>hypertension</td>\n",
              "      <td>0</td>\n",
              "      <td>0.0</td>\n",
              "      <td>5362</td>\n",
              "      <td>0.888042</td>\n",
              "      <td>2</td>\n",
              "      <td>int64</td>\n",
              "    </tr>\n",
              "    <tr>\n",
              "      <th>3</th>\n",
              "      <td>heart_disease</td>\n",
              "      <td>0</td>\n",
              "      <td>0.0</td>\n",
              "      <td>1174</td>\n",
              "      <td>0.194435</td>\n",
              "      <td>2</td>\n",
              "      <td>int64</td>\n",
              "    </tr>\n",
              "    <tr>\n",
              "      <th>4</th>\n",
              "      <td>ever_married</td>\n",
              "      <td>0</td>\n",
              "      <td>0.0</td>\n",
              "      <td>5690</td>\n",
              "      <td>0.942365</td>\n",
              "      <td>2</td>\n",
              "      <td>int64</td>\n",
              "    </tr>\n",
              "    <tr>\n",
              "      <th>5</th>\n",
              "      <td>work_type</td>\n",
              "      <td>0</td>\n",
              "      <td>0.0</td>\n",
              "      <td>4022</td>\n",
              "      <td>0.666115</td>\n",
              "      <td>3</td>\n",
              "      <td>int64</td>\n",
              "    </tr>\n",
              "    <tr>\n",
              "      <th>6</th>\n",
              "      <td>Residence_type</td>\n",
              "      <td>0</td>\n",
              "      <td>0.0</td>\n",
              "      <td>3865</td>\n",
              "      <td>0.640113</td>\n",
              "      <td>2</td>\n",
              "      <td>int64</td>\n",
              "    </tr>\n",
              "    <tr>\n",
              "      <th>7</th>\n",
              "      <td>avg_glucose_level</td>\n",
              "      <td>0</td>\n",
              "      <td>0.0</td>\n",
              "      <td>0</td>\n",
              "      <td>0.000000</td>\n",
              "      <td>5604</td>\n",
              "      <td>float64</td>\n",
              "    </tr>\n",
              "    <tr>\n",
              "      <th>8</th>\n",
              "      <td>smoking_status</td>\n",
              "      <td>0</td>\n",
              "      <td>0.0</td>\n",
              "      <td>1716</td>\n",
              "      <td>0.284200</td>\n",
              "      <td>4</td>\n",
              "      <td>int64</td>\n",
              "    </tr>\n",
              "    <tr>\n",
              "      <th>9</th>\n",
              "      <td>bmi_(11.299000000000001, 23.3]</td>\n",
              "      <td>0</td>\n",
              "      <td>0.0</td>\n",
              "      <td>5693</td>\n",
              "      <td>0.942862</td>\n",
              "      <td>2</td>\n",
              "      <td>int64</td>\n",
              "    </tr>\n",
              "    <tr>\n",
              "      <th>10</th>\n",
              "      <td>bmi_(23.3, 25.3]</td>\n",
              "      <td>0</td>\n",
              "      <td>0.0</td>\n",
              "      <td>5701</td>\n",
              "      <td>0.944187</td>\n",
              "      <td>2</td>\n",
              "      <td>int64</td>\n",
              "    </tr>\n",
              "    <tr>\n",
              "      <th>11</th>\n",
              "      <td>bmi_(25.3, 26.9]</td>\n",
              "      <td>0</td>\n",
              "      <td>0.0</td>\n",
              "      <td>5702</td>\n",
              "      <td>0.944352</td>\n",
              "      <td>2</td>\n",
              "      <td>int64</td>\n",
              "    </tr>\n",
              "    <tr>\n",
              "      <th>12</th>\n",
              "      <td>bmi_(26.9, 28.4]</td>\n",
              "      <td>0</td>\n",
              "      <td>0.0</td>\n",
              "      <td>5673</td>\n",
              "      <td>0.939550</td>\n",
              "      <td>2</td>\n",
              "      <td>int64</td>\n",
              "    </tr>\n",
              "    <tr>\n",
              "      <th>13</th>\n",
              "      <td>bmi_(28.4, 29.8]</td>\n",
              "      <td>0</td>\n",
              "      <td>0.0</td>\n",
              "      <td>5730</td>\n",
              "      <td>0.948990</td>\n",
              "      <td>2</td>\n",
              "      <td>int64</td>\n",
              "    </tr>\n",
              "    <tr>\n",
              "      <th>14</th>\n",
              "      <td>bmi_(29.8, 31.4]</td>\n",
              "      <td>0</td>\n",
              "      <td>0.0</td>\n",
              "      <td>5714</td>\n",
              "      <td>0.946340</td>\n",
              "      <td>2</td>\n",
              "      <td>int64</td>\n",
              "    </tr>\n",
              "    <tr>\n",
              "      <th>15</th>\n",
              "      <td>bmi_(31.4, 33.3]</td>\n",
              "      <td>0</td>\n",
              "      <td>0.0</td>\n",
              "      <td>5721</td>\n",
              "      <td>0.947499</td>\n",
              "      <td>2</td>\n",
              "      <td>int64</td>\n",
              "    </tr>\n",
              "    <tr>\n",
              "      <th>16</th>\n",
              "      <td>bmi_(33.3, 35.8]</td>\n",
              "      <td>0</td>\n",
              "      <td>0.0</td>\n",
              "      <td>5708</td>\n",
              "      <td>0.945346</td>\n",
              "      <td>2</td>\n",
              "      <td>int64</td>\n",
              "    </tr>\n",
              "    <tr>\n",
              "      <th>17</th>\n",
              "      <td>bmi_(35.8, 40.0]</td>\n",
              "      <td>0</td>\n",
              "      <td>0.0</td>\n",
              "      <td>5698</td>\n",
              "      <td>0.943690</td>\n",
              "      <td>2</td>\n",
              "      <td>int64</td>\n",
              "    </tr>\n",
              "    <tr>\n",
              "      <th>18</th>\n",
              "      <td>bmi_(40.0, 92.0]</td>\n",
              "      <td>0</td>\n",
              "      <td>0.0</td>\n",
              "      <td>5702</td>\n",
              "      <td>0.944352</td>\n",
              "      <td>2</td>\n",
              "      <td>int64</td>\n",
              "    </tr>\n",
              "    <tr>\n",
              "      <th>19</th>\n",
              "      <td>bmi_null</td>\n",
              "      <td>0</td>\n",
              "      <td>0.0</td>\n",
              "      <td>5777</td>\n",
              "      <td>0.956774</td>\n",
              "      <td>2</td>\n",
              "      <td>int64</td>\n",
              "    </tr>\n",
              "    <tr>\n",
              "      <th>20</th>\n",
              "      <td>stroke</td>\n",
              "      <td>0</td>\n",
              "      <td>0.0</td>\n",
              "      <td>3019</td>\n",
              "      <td>0.500000</td>\n",
              "      <td>2</td>\n",
              "      <td>int64</td>\n",
              "    </tr>\n",
              "  </tbody>\n",
              "</table>\n",
              "</div>"
            ],
            "text/plain": [
              "                          variable  q_nan  p_nan  q_zeros   p_zeros  unique  \\\n",
              "0                           gender      0    0.0     3164  0.524015       2   \n",
              "1                              age      0    0.0        0  0.000000    2417   \n",
              "2                     hypertension      0    0.0     5362  0.888042       2   \n",
              "3                    heart_disease      0    0.0     1174  0.194435       2   \n",
              "4                     ever_married      0    0.0     5690  0.942365       2   \n",
              "5                        work_type      0    0.0     4022  0.666115       3   \n",
              "6                   Residence_type      0    0.0     3865  0.640113       2   \n",
              "7                avg_glucose_level      0    0.0        0  0.000000    5604   \n",
              "8                   smoking_status      0    0.0     1716  0.284200       4   \n",
              "9   bmi_(11.299000000000001, 23.3]      0    0.0     5693  0.942862       2   \n",
              "10                bmi_(23.3, 25.3]      0    0.0     5701  0.944187       2   \n",
              "11                bmi_(25.3, 26.9]      0    0.0     5702  0.944352       2   \n",
              "12                bmi_(26.9, 28.4]      0    0.0     5673  0.939550       2   \n",
              "13                bmi_(28.4, 29.8]      0    0.0     5730  0.948990       2   \n",
              "14                bmi_(29.8, 31.4]      0    0.0     5714  0.946340       2   \n",
              "15                bmi_(31.4, 33.3]      0    0.0     5721  0.947499       2   \n",
              "16                bmi_(33.3, 35.8]      0    0.0     5708  0.945346       2   \n",
              "17                bmi_(35.8, 40.0]      0    0.0     5698  0.943690       2   \n",
              "18                bmi_(40.0, 92.0]      0    0.0     5702  0.944352       2   \n",
              "19                        bmi_null      0    0.0     5777  0.956774       2   \n",
              "20                          stroke      0    0.0     3019  0.500000       2   \n",
              "\n",
              "       type  \n",
              "0     int64  \n",
              "1   float64  \n",
              "2     int64  \n",
              "3     int64  \n",
              "4     int64  \n",
              "5     int64  \n",
              "6     int64  \n",
              "7   float64  \n",
              "8     int64  \n",
              "9     int64  \n",
              "10    int64  \n",
              "11    int64  \n",
              "12    int64  \n",
              "13    int64  \n",
              "14    int64  \n",
              "15    int64  \n",
              "16    int64  \n",
              "17    int64  \n",
              "18    int64  \n",
              "19    int64  \n",
              "20    int64  "
            ]
          },
          "metadata": {},
          "output_type": "display_data"
        }
      ],
      "source": [
        "from imblearn.over_sampling import SMOTE\n",
        "\n",
        "X = data_ohe.drop('stroke', axis=1)\n",
        "y = data_ohe['stroke']\n",
        "\n",
        "\n",
        "smote = SMOTE()\n",
        "X_sm, y_sm = smote.fit_resample(X, y)\n",
        "\n",
        "data_ohe_balanced = pd.concat([X_sm, y_sm], axis=1)\n",
        "\n",
        "display(data_ohe_balanced.shape)\n",
        "display((data_ohe_balanced['stroke'].value_counts()))\n",
        "display(status(data_ohe_balanced))"
      ]
    },
    {
      "cell_type": "markdown",
      "metadata": {
        "id": "ii9MmMSV3qhO"
      },
      "source": [
        "# 5. Save dataFrame"
      ]
    },
    {
      "cell_type": "code",
      "execution_count": null,
      "metadata": {
        "id": "mE2z3qal3qhO"
      },
      "outputs": [],
      "source": [
        "filename = \"data_ohe_balanced.csv\"\n",
        "data_ohe_balanced.to_csv(filename, index = False)"
      ]
    },
    {
      "cell_type": "markdown",
      "metadata": {
        "id": "0Ese_J9C3qhO"
      },
      "source": [
        "# 6. Lazy Gradio"
      ]
    },
    {
      "cell_type": "code",
      "execution_count": null,
      "metadata": {
        "id": "G5VBr7r23qhP",
        "outputId": "92866cb4-bd5f-4efc-c4cb-2e930097def5"
      },
      "outputs": [
        {
          "name": "stdout",
          "output_type": "stream",
          "text": [
            "\"gender\",\n",
            "\"age\",\n",
            "\"hypertension\",\n",
            "\"heart_disease\",\n",
            "\"ever_married\",\n",
            "\"work_type\",\n",
            "\"Residence_type\",\n",
            "\"avg_glucose_level\",\n",
            "\"bmi\",\n",
            "\"smoking_status\"\n"
          ]
        }
      ],
      "source": [
        "# Params Name\n",
        "\n",
        "columnas = list(data4.columns)\n",
        "nombres_columnas = ',\\n'.join(['\"' + columna + '\"' for columna in columnas])\n",
        "print(nombres_columnas)"
      ]
    },
    {
      "cell_type": "code",
      "execution_count": null,
      "metadata": {
        "id": "33pn_KPg3qhP",
        "outputId": "e2279555-19e2-491f-9b1a-a90495a4e3c6"
      },
      "outputs": [
        {
          "name": "stdout",
          "output_type": "stream",
          "text": [
            "gender,\n",
            "age,\n",
            "hypertension,\n",
            "heart_disease,\n",
            "ever_married,\n",
            "work_type,\n",
            "Residence_type,\n",
            "avg_glucose_level,\n",
            "bmi,\n",
            "smoking_status,\n"
          ]
        }
      ],
      "source": [
        "columnas = list(data4.columns)\n",
        "nombres_columnas = ',\\n'.join([columna for columna in columnas])\n",
        "nombres_columnas = nombres_columnas.rstrip() + ','\n",
        "print(nombres_columnas)"
      ]
    },
    {
      "cell_type": "code",
      "execution_count": null,
      "metadata": {
        "id": "dd_wkrff3qhQ",
        "outputId": "62ffdc2b-3e2e-483d-da3d-2a98b5b25780"
      },
      "outputs": [
        {
          "name": "stdout",
          "output_type": "stream",
          "text": [
            "gender = gr.Radio(\n",
            "    label='Gender',\n",
            "    choices=['Male', 'Female'],\n",
            "    value='Female',\n",
            ")\n",
            "\n",
            "age = gr.Slider(\n",
            "    label='Age',\n",
            "    minimum=35.0,\n",
            "    maximum=82.0,\n",
            "    step=1,\n",
            "    randomize=True\n",
            ")\n",
            "\n",
            "hypertension = gr.Radio(\n",
            "    label='Hypertension',\n",
            "    choices=['No', 'Yes'],\n",
            "    value='No',\n",
            ")\n",
            "\n",
            "heart_disease = gr.Radio(\n",
            "    label='Heart_Disease',\n",
            "    choices=['Yes', 'No'],\n",
            "    value='No',\n",
            ")\n",
            "\n",
            "ever_married = gr.Radio(\n",
            "    label='Ever_Married',\n",
            "    choices=['Yes', 'No'],\n",
            "    value='Yes',\n",
            ")\n",
            "\n",
            "work_type = gr.Radio(\n",
            "    label='Work_Type',\n",
            "    choices=['Private', 'Self-employed', 'Govt_job'],\n",
            "    value='Private',\n",
            ")\n",
            "\n",
            "Residence_type = gr.Radio(\n",
            "    label='Residence_Type',\n",
            "    choices=['Urban', 'Rural'],\n",
            "    value='Urban',\n",
            ")\n",
            "\n",
            "avg_glucose_level = gr.Slider(\n",
            "    label='Avg_Glucose_Level',\n",
            "    minimum=55.22,\n",
            "    maximum=271.74,\n",
            "    step=1,\n",
            "    randomize=True\n",
            ")\n",
            "\n",
            "bmi = gr.Slider(\n",
            "    label='Bmi',\n",
            "    minimum=11.3,\n",
            "    maximum=92.0,\n",
            "    step=1,\n",
            "    randomize=True\n",
            ")\n",
            "\n",
            "smoking_status = gr.Dropdown(\n",
            "    label='Smoking_Status',\n",
            "    choices=['formerly smoked', 'never smoked', 'smokes', 'Unknown'],\n",
            "    multiselect=False,\n",
            "    value='never smoked',\n",
            ")\n",
            "\n"
          ]
        }
      ],
      "source": [
        "# Labels\n",
        "\n",
        "import numpy as np\n",
        "columnas4 = data4.columns\n",
        "for columna in columnas4:\n",
        "\n",
        "\n",
        "    valor_mas_frecuente = data4[columna].value_counts().idxmax()\n",
        "    # Verifica el tipo de dato de la columna\n",
        "    if np.issubdtype(data4[columna].dtype, np.number):\n",
        "        if len(data4[columna].unique()) <= 5:\n",
        "            codigo_columna = f\"{columna} = gr.Radio(\\n\"\n",
        "            codigo_columna += f\"    label='{columna.title()}',\\n\"\n",
        "            codigo_columna += f\"    choices={data4[columna].unique().tolist()},\\n\"\n",
        "            codigo_columna += f\"    value={valor_mas_frecuente},\\n\"\n",
        "            codigo_columna += f\")\\n\"\n",
        "            print(codigo_columna)\n",
        "        else:\n",
        "            codigo_columna = f\"{columna} = gr.Slider(\\n\"\n",
        "            codigo_columna += f\"    label='{columna.title()}',\\n\"\n",
        "            codigo_columna += f\"    minimum={data4[columna].min()},\\n\"\n",
        "            codigo_columna += f\"    maximum={data4[columna].max()},\\n\"\n",
        "            codigo_columna += f\"    step=1,\\n\"\n",
        "            codigo_columna += f\"    randomize=True\\n\"\n",
        "            codigo_columna += f\")\\n\"\n",
        "            print(codigo_columna)\n",
        "    else:\n",
        "        # Verifica la cantidad de valores únicos en la columna\n",
        "        if len(data4[columna].unique()) <= 3:\n",
        "            codigo_columna = f\"{columna} = gr.Radio(\\n\"\n",
        "            codigo_columna += f\"    label='{columna.title()}',\\n\"\n",
        "            codigo_columna += f\"    choices={data4[columna].unique().tolist()},\\n\"\n",
        "            codigo_columna += f\"    value='{valor_mas_frecuente}',\\n\"\n",
        "            codigo_columna += f\")\\n\"\n",
        "            print(codigo_columna)\n",
        "        else:\n",
        "            codigo_columna = f\"{columna} = gr.Dropdown(\\n\"\n",
        "            codigo_columna += f\"    label='{columna.title()}',\\n\"\n",
        "            codigo_columna += f\"    choices={data4[columna].unique().tolist()},\\n\"\n",
        "            codigo_columna += f\"    multiselect=False,\\n\"\n",
        "            codigo_columna += f\"    value='{valor_mas_frecuente}',\\n\"\n",
        "            codigo_columna += f\")\\n\"\n",
        "            print(codigo_columna)"
      ]
    }
  ],
  "metadata": {
    "kernelspec": {
      "display_name": "env",
      "language": "python",
      "name": "python3"
    },
    "language_info": {
      "codemirror_mode": {
        "name": "ipython",
        "version": 3
      },
      "file_extension": ".py",
      "mimetype": "text/x-python",
      "name": "python",
      "nbconvert_exporter": "python",
      "pygments_lexer": "ipython3",
      "version": "3.10.12"
    },
    "orig_nbformat": 4,
    "colab": {
      "provenance": [],
      "include_colab_link": true
    }
  },
  "nbformat": 4,
  "nbformat_minor": 0
}