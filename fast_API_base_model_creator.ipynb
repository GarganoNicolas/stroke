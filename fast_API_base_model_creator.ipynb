{
  "cells": [
    {
      "cell_type": "markdown",
      "metadata": {
        "id": "view-in-github",
        "colab_type": "text"
      },
      "source": [
        "<a href=\"https://colab.research.google.com/github/GarganoNicolas/stroke/blob/main/fast_API_base_model_creator.ipynb\" target=\"_parent\"><img src=\"https://colab.research.google.com/assets/colab-badge.svg\" alt=\"Open In Colab\"/></a>"
      ]
    },
    {
      "cell_type": "markdown",
      "source": [
        "# for Fast API"
      ],
      "metadata": {
        "id": "asbZve5s1aNS"
      }
    },
    {
      "cell_type": "code",
      "source": [
        "df = pd.read_csv(\"https://raw.githubusercontent.com/GarganoNicolas/stroke/main/dataOver35.csv\", sep= ',')\n",
        "data4 = df.copy()\n",
        "data = data4.drop('stroke', axis=1)"
      ],
      "metadata": {
        "id": "5VIoLJaa7ru4"
      },
      "execution_count": null,
      "outputs": []
    },
    {
      "cell_type": "code",
      "source": [
        "data = data4"
      ],
      "metadata": {
        "id": "GW4qyoUS1Zpq"
      },
      "execution_count": 43,
      "outputs": []
    },
    {
      "cell_type": "code",
      "source": [
        "data['age'] = data['age'].astype(int)"
      ],
      "metadata": {
        "id": "qs8h3J2A5Tlh"
      },
      "execution_count": 28,
      "outputs": []
    },
    {
      "cell_type": "code",
      "source": [
        "dtypes = data.dtypes.replace({'int64': ': int', 'object': ': str', 'float64': ': float'})\n",
        "dtypes"
      ],
      "metadata": {
        "colab": {
          "base_uri": "https://localhost:8080/"
        },
        "id": "UXFQO52J1e_Q",
        "outputId": "1ad6f755-7576-4023-933c-7dc47f23b1a4"
      },
      "execution_count": 34,
      "outputs": [
        {
          "output_type": "execute_result",
          "data": {
            "text/plain": [
              "gender                 : str\n",
              "age                    : int\n",
              "hypertension           : str\n",
              "heart_disease          : str\n",
              "ever_married           : str\n",
              "work_type              : str\n",
              "Residence_type         : str\n",
              "avg_glucose_level    : float\n",
              "bmi                  : float\n",
              "smoking_status         : str\n",
              "dtype: object"
            ]
          },
          "metadata": {},
          "execution_count": 34
        }
      ]
    },
    {
      "cell_type": "markdown",
      "source": [
        "# for REQUEST"
      ],
      "metadata": {
        "id": "lfqSeiLv1a1w"
      }
    },
    {
      "cell_type": "code",
      "source": [
        "caso0 = data.iloc[1003]\n",
        "caso0_json = caso0.to_dict()\n",
        "caso0_json"
      ],
      "metadata": {
        "colab": {
          "base_uri": "https://localhost:8080/"
        },
        "id": "j1ZXcRjo1bGp",
        "outputId": "5d296f24-3721-472c-b284-2f6643dc3df8"
      },
      "execution_count": 44,
      "outputs": [
        {
          "output_type": "execute_result",
          "data": {
            "text/plain": [
              "{'gender': 'Male',\n",
              " 'age': 68,\n",
              " 'hypertension': 'Yes',\n",
              " 'heart_disease': 'No',\n",
              " 'ever_married': 'Yes',\n",
              " 'work_type': 'Govt_job',\n",
              " 'Residence_type': 'Urban',\n",
              " 'avg_glucose_level': 222.29,\n",
              " 'bmi': 30.1,\n",
              " 'smoking_status': 'never smoked'}"
            ]
          },
          "metadata": {},
          "execution_count": 44
        }
      ]
    },
    {
      "cell_type": "code",
      "source": [
        "caso1 = data.iloc[1027]\n",
        "caso1_json = caso1.to_dict()\n",
        "caso1_json"
      ],
      "metadata": {
        "colab": {
          "base_uri": "https://localhost:8080/"
        },
        "id": "Yq1twYdK1pGY",
        "outputId": "f0ed2186-8dd0-4617-c27c-64a6d7053db5"
      },
      "execution_count": 45,
      "outputs": [
        {
          "output_type": "execute_result",
          "data": {
            "text/plain": [
              "{'gender': 'Female',\n",
              " 'age': 77,\n",
              " 'hypertension': 'No',\n",
              " 'heart_disease': 'No',\n",
              " 'ever_married': 'Yes',\n",
              " 'work_type': 'Private',\n",
              " 'Residence_type': 'Urban',\n",
              " 'avg_glucose_level': 79.3,\n",
              " 'bmi': 26.4,\n",
              " 'smoking_status': 'Unknown'}"
            ]
          },
          "metadata": {},
          "execution_count": 45
        }
      ]
    },
    {
      "cell_type": "code",
      "source": [
        "caso2 = data.iloc[1099]\n",
        "caso2_json = caso2.to_dict()\n",
        "caso2_json"
      ],
      "metadata": {
        "colab": {
          "base_uri": "https://localhost:8080/"
        },
        "id": "BYz1k0XG1pT-",
        "outputId": "61196a96-0863-42d2-a219-0a5b4ae4edcf"
      },
      "execution_count": 46,
      "outputs": [
        {
          "output_type": "execute_result",
          "data": {
            "text/plain": [
              "{'gender': 'Male',\n",
              " 'age': 56,\n",
              " 'hypertension': 'No',\n",
              " 'heart_disease': 'No',\n",
              " 'ever_married': 'Yes',\n",
              " 'work_type': 'Private',\n",
              " 'Residence_type': 'Urban',\n",
              " 'avg_glucose_level': 84.3,\n",
              " 'bmi': 22.1,\n",
              " 'smoking_status': 'Unknown'}"
            ]
          },
          "metadata": {},
          "execution_count": 46
        }
      ]
    },
    {
      "cell_type": "code",
      "source": [
        "caso3 = data.iloc[1]\n",
        "caso3_json = caso3.to_dict()\n",
        "caso3_json"
      ],
      "metadata": {
        "colab": {
          "base_uri": "https://localhost:8080/"
        },
        "id": "cP2OPL6G1pkr",
        "outputId": "f17e847c-2b7d-4de2-9fcd-0e6d5cfe4afa"
      },
      "execution_count": 47,
      "outputs": [
        {
          "output_type": "execute_result",
          "data": {
            "text/plain": [
              "{'gender': 'Female',\n",
              " 'age': 61,\n",
              " 'hypertension': 'No',\n",
              " 'heart_disease': 'No',\n",
              " 'ever_married': 'Yes',\n",
              " 'work_type': 'Self-employed',\n",
              " 'Residence_type': 'Rural',\n",
              " 'avg_glucose_level': 202.21,\n",
              " 'bmi': nan,\n",
              " 'smoking_status': 'never smoked'}"
            ]
          },
          "metadata": {},
          "execution_count": 47
        }
      ]
    },
    {
      "cell_type": "code",
      "source": [
        "caso4 = data.iloc[4]\n",
        "caso4_json = caso4.to_dict()\n",
        "caso4_json"
      ],
      "metadata": {
        "colab": {
          "base_uri": "https://localhost:8080/"
        },
        "id": "lP-_SCW11pvE",
        "outputId": "50bbbc93-82e2-427b-df93-3dea552b099e"
      },
      "execution_count": 48,
      "outputs": [
        {
          "output_type": "execute_result",
          "data": {
            "text/plain": [
              "{'gender': 'Female',\n",
              " 'age': 79,\n",
              " 'hypertension': 'Yes',\n",
              " 'heart_disease': 'No',\n",
              " 'ever_married': 'Yes',\n",
              " 'work_type': 'Self-employed',\n",
              " 'Residence_type': 'Rural',\n",
              " 'avg_glucose_level': 174.12,\n",
              " 'bmi': 24.0,\n",
              " 'smoking_status': 'never smoked'}"
            ]
          },
          "metadata": {},
          "execution_count": 48
        }
      ]
    },
    {
      "cell_type": "code",
      "source": [
        "data = data4\n",
        "print(data['stroke'].iloc[1003] )\n",
        "print(data['stroke'].iloc[1027] )\n",
        "print(data['stroke'].iloc[1099] )\n",
        "print(data['stroke'].iloc[1] )\n",
        "print(data['stroke'].iloc[4] )"
      ],
      "metadata": {
        "colab": {
          "base_uri": "https://localhost:8080/"
        },
        "id": "HdS7euhO12NH",
        "outputId": "fc0ef886-b687-4fee-f783-576eec7b918e"
      },
      "execution_count": 40,
      "outputs": [
        {
          "output_type": "stream",
          "name": "stdout",
          "text": [
            "No\n",
            "No\n",
            "No\n",
            "Yes\n",
            "Yes\n"
          ]
        }
      ]
    }
  ],
  "metadata": {
    "kernelspec": {
      "display_name": "env",
      "language": "python",
      "name": "python3"
    },
    "language_info": {
      "codemirror_mode": {
        "name": "ipython",
        "version": 3
      },
      "file_extension": ".py",
      "mimetype": "text/x-python",
      "name": "python",
      "nbconvert_exporter": "python",
      "pygments_lexer": "ipython3",
      "version": "3.10.12"
    },
    "orig_nbformat": 4,
    "colab": {
      "provenance": [],
      "include_colab_link": true
    }
  },
  "nbformat": 4,
  "nbformat_minor": 0
}